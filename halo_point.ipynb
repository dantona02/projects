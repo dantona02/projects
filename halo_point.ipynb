{
 "cells": [
  {
   "cell_type": "code",
   "execution_count": 1,
   "id": "be8ee4cf1f8b785c",
   "metadata": {
    "collapsed": false,
    "ExecuteTime": {
     "end_time": "2023-10-30T16:46:47.832193Z",
     "start_time": "2023-10-30T16:46:47.688894Z"
    }
   },
   "outputs": [],
   "source": [
    "import numpy as np\n",
    "from matplotlib.collections import LineCollection\n",
    "from matplotlib.colors import LinearSegmentedColormap"
   ]
  },
  {
   "cell_type": "code",
   "execution_count": 2,
   "id": "67f3b6b40def910e",
   "metadata": {
    "collapsed": false,
    "ExecuteTime": {
     "end_time": "2023-10-30T16:46:47.837925Z",
     "start_time": "2023-10-30T16:46:47.834127Z"
    }
   },
   "outputs": [],
   "source": [
    "class HaloPoint:\n",
    "    def __init__(self, ax, mass, color_decay, color1, color2='white'):\n",
    "        self.halo_points_color1 = [ax.plot([], [], 'o', c=color1, markersize=0, alpha=0, markeredgecolor='none', zorder=3)[0] for _ in range(100)]\n",
    "        self.halo_points_white = [ax.plot([], [], 'o', c=color2, markersize=0, alpha=0, markeredgecolor='none', zorder=4)[0] for _ in range(100)]\n",
    "        self.mass = mass\n",
    "        self.color_decay = color_decay\n",
    "        \n",
    "    def set_data(self, x, y):\n",
    "        radius = np.linspace(2, 20, 100)\n",
    "        for index, i in enumerate(radius):\n",
    "            self.halo_points_color1[index].set_data([x], [y])\n",
    "            self.halo_points_white[index].set_data([x], [y])\n",
    "            \n",
    "            self.halo_points_color1[index].set_markersize(self.mass*i)\n",
    "            self.halo_points_color1[index].set_alpha(np.exp(-(i-2))**self.color_decay)\n",
    "            \n",
    "            self.halo_points_white[index].set_markersize(self.mass*i)\n",
    "            self.halo_points_white[index].set_alpha(np.exp(-(i-2))**1)\n",
    "        \n",
    "    def get_artists(self):\n",
    "        return self.halo_points_color1 + self.halo_points_white"
   ]
  },
  {
   "cell_type": "code",
   "execution_count": 3,
   "outputs": [],
   "source": [
    "class Trajectory:\n",
    "    def __init__(self, ax, size_main, size_side, datarange, color_decay, decay_white, color, edgecolor):\n",
    "        self.trajectory_main = [ax.plot([], [], c=color, linewidth=size_main, alpha=0, zorder=4)[0] for _ in\n",
    "                                range(datarange - 1, 0, -1)]\n",
    "        self.trajectory_side = [ax.plot([], [], c=edgecolor, linewidth=size_side, alpha=0, zorder=3)[0] for _ in\n",
    "                                range(datarange - 1, 0, -1)]\n",
    "        self.trajectory_top = [ax.plot([], [], c='white', linewidth=size_side, alpha=0, zorder=5)[0] for _ in\n",
    "                               range(datarange - 1, 0, -1)]\n",
    "        self.color_decay = color_decay\n",
    "        self.decay_white = decay_white\n",
    "        self.datarange = datarange\n",
    "\n",
    "    def set_data(self, x, y, frame):\n",
    "        if len(x) != len(y):\n",
    "            raise ValueError(\"x and y must have the same number of elements\")\n",
    "        # for traj in self.trajectory_main + self.trajectory_side:\n",
    "        #     traj.set_data([], [])\n",
    "        start_index = max(0, frame - self.datarange)\n",
    "        subset_x = x[start_index:frame + 1]\n",
    "        subset_y = y[start_index:frame + 1]\n",
    "\n",
    "        num_segments = min(len(self.trajectory_main), len(subset_x) - 1)  # segments available\n",
    "\n",
    "        for s in range(num_segments):\n",
    "            segment_start = s  # start point of segment\n",
    "            segment_end = s + 1  # end point of segment\n",
    "            traj_index = num_segments - 1 - s  # position in list of trajectories in reversed order\n",
    "            fraction = 1 - (s / num_segments)\n",
    "            alpha = np.exp(-self.color_decay * fraction) * (1 - fraction)\n",
    "\n",
    "            self.trajectory_main[traj_index].set_data(subset_x[segment_start:segment_end + 1],\n",
    "                                                      subset_y[segment_start:segment_end + 1])\n",
    "            self.trajectory_side[traj_index].set_data(subset_x[segment_start:segment_end + 1],\n",
    "                                                      subset_y[segment_start:segment_end + 1])\n",
    "            self.trajectory_top[traj_index].set_data(subset_x[segment_start:segment_end + 1],\n",
    "                                                     subset_y[segment_start:segment_end + 1])\n",
    "            self.trajectory_main[traj_index].set_alpha(alpha)\n",
    "            self.trajectory_side[traj_index].set_alpha(alpha * 0.2)\n",
    "            self.trajectory_top[traj_index].set_alpha(np.exp(-self.decay_white * fraction) * (1 - fraction))\n",
    "\n",
    "    def get_artists(self):\n",
    "        return self.trajectory_main + self.trajectory_side + self.trajectory_top"
   ],
   "metadata": {
    "collapsed": false
   },
   "id": "faa6b57bf9a2802d"
  }
 ],
 "metadata": {
  "kernelspec": {
   "display_name": "Python 3 (ipykernel)",
   "language": "python",
   "name": "python3"
  },
  "language_info": {
   "codemirror_mode": {
    "name": "ipython",
    "version": 3
   },
   "file_extension": ".py",
   "mimetype": "text/x-python",
   "name": "python",
   "nbconvert_exporter": "python",
   "pygments_lexer": "ipython3",
   "version": "3.10.10"
  }
 },
 "nbformat": 4,
 "nbformat_minor": 5
}
