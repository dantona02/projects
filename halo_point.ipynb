{
 "cells": [
  {
   "cell_type": "code",
   "execution_count": 51,
   "id": "be8ee4cf1f8b785c",
   "metadata": {
    "collapsed": false,
    "ExecuteTime": {
     "end_time": "2023-10-29T22:15:37.081814Z",
     "start_time": "2023-10-29T22:15:37.073203Z"
    }
   },
   "outputs": [],
   "source": [
    "import numpy as np"
   ]
  },
  {
   "cell_type": "code",
   "execution_count": 52,
   "id": "67f3b6b40def910e",
   "metadata": {
    "collapsed": false,
    "ExecuteTime": {
     "end_time": "2023-10-29T22:15:37.082537Z",
     "start_time": "2023-10-29T22:15:37.079517Z"
    }
   },
   "outputs": [],
   "source": [
    "class HaloPoint:\n",
    "    def __init__(self, ax, mass, color_decay, color1, color2='white'):\n",
    "        self.halo_points_color1 = [ax.plot([], [], 'o', c=color1, markersize=0, alpha=0, markeredgecolor='none', zorder=3)[0] for _ in range(100)]\n",
    "        self.halo_points_white = [ax.plot([], [], 'o', c=color2, markersize=0, alpha=0, markeredgecolor='none', zorder=4)[0] for _ in range(100)]\n",
    "        self.mass = mass\n",
    "        self.color_decay = color_decay\n",
    "        \n",
    "    def set_data(self, x, y):\n",
    "        radius = np.linspace(2, 20, 100)\n",
    "        for index, i in enumerate(radius):\n",
    "            self.halo_points_color1[index].set_data([x], [y])\n",
    "            self.halo_points_white[index].set_data([x], [y])\n",
    "            \n",
    "            self.halo_points_color1[index].set_markersize(self.mass*i)\n",
    "            self.halo_points_color1[index].set_alpha(np.exp(-(i-2))**self.color_decay)\n",
    "            \n",
    "            self.halo_points_white[index].set_markersize(self.mass*i)\n",
    "            self.halo_points_white[index].set_alpha(np.exp(-(i-2))**1)\n",
    "        \n",
    "    def get_artists(self):\n",
    "        return self.halo_points_color1 + self.halo_points_white"
   ]
  },
  {
   "cell_type": "code",
   "execution_count": 53,
   "outputs": [],
   "source": [
    "class Trajectory:\n",
    "    def __init__(self, ax, size_main, size_side, datarange, color_decay, color, edgecolor):\n",
    "        self.trajectory_main = [ax.plot([], [], c=color, linewidth=size_main, alpha=0, zorder=4)[0] for _ in range(datarange-1, 0, -1)]\n",
    "        self.trajectory_side = [ax.plot([], [], c=edgecolor, linewidth=size_side, alpha=0, zorder=3)[0] for _ in range(datarange-1, 0, -1)]\n",
    "        self.trajectory_top = [ax.plot([], [], c='white', linewidth=size_side, alpha=0, zorder=5)[0] for _ in range(datarange-1, 0, -1)]\n",
    "        self.color_decay = color_decay\n",
    "        self.datarange = datarange\n",
    "        \n",
    "    def set_data(self, x, y, frame):\n",
    "        if len(x) != len(y):\n",
    "            raise ValueError(\"x and y must have the same number of elements\")\n",
    "        # for traj in self.trajectory_main + self.trajectory_side:\n",
    "        #     traj.set_data([], [])\n",
    "        start_index = max(0, frame - self.datarange)\n",
    "        subset_x = x[start_index:frame+1]\n",
    "        subset_y = y[start_index:frame+1]\n",
    "        \n",
    "        num_segments = min(len(self.trajectory_main), len(subset_x) - 1) #segments available\n",
    "        \n",
    "        for s in range(num_segments):\n",
    "            segment_start = s #start point of segment\n",
    "            segment_end = s + 1  # end point of segment\n",
    "            traj_index = num_segments - 1 - s #position in list of trajectories in reversed order \n",
    "            fraction = 1 - (s/num_segments)\n",
    "            alpha = np.exp(-self.color_decay * fraction) * (1 - fraction)\n",
    "            \n",
    "            self.trajectory_main[traj_index].set_data(subset_x[segment_start:segment_end+1], subset_y[segment_start:segment_end+1])\n",
    "            self.trajectory_side[traj_index].set_data(subset_x[segment_start:segment_end+1], subset_y[segment_start:segment_end+1])\n",
    "            self.trajectory_top[traj_index].set_data(subset_x[segment_start:segment_end+1], subset_y[segment_start:segment_end+1])\n",
    "            self.trajectory_main[traj_index].set_alpha(alpha)\n",
    "            self.trajectory_side[traj_index].set_alpha(alpha * 0.2) \n",
    "            self.trajectory_top[traj_index].set_alpha(np.exp(-15 * fraction) * (1 - fraction)) \n",
    "                \n",
    "    def get_artists(self):\n",
    "        return self.trajectory_main + self.trajectory_side + self.trajectory_top"
   ],
   "metadata": {
    "collapsed": false,
    "ExecuteTime": {
     "end_time": "2023-10-29T22:15:37.091397Z",
     "start_time": "2023-10-29T22:15:37.087631Z"
    }
   },
   "id": "faa6b57bf9a2802d"
  },
  {
   "cell_type": "code",
   "execution_count": 54,
   "outputs": [],
   "source": [
    "# from matplotlib.animation import FuncAnimation\n",
    "# import matplotlib.pyplot as plt\n",
    "# \n",
    "# fig, ax = plt.subplots()\n",
    "# ax.set_xlim(0, 10)  # Zum Beispiel\n",
    "# ax.set_ylim(0, 10)  # Zum Beispiel\n",
    "# \n",
    "# ax.grid(False)\n",
    "# ax.axis('off')\n",
    "# ax.set_xlim(-1, 10.5)\n",
    "# fig.patch.set_facecolor('black')\n",
    "# \n",
    "# # Beispiel-Daten (ersetzen Sie diese durch Ihre eigenen Daten)\n",
    "# t = np.linspace(0, 2 * np.pi, 4000)  # Zeitpunkte\n",
    "# x = 5 + 3 * np.cos(t)  # x-Koordinaten\n",
    "# y = 5 + 3 * np.sin(t)\n",
    "# \n",
    "# halo_point = HaloPoint(ax, 2, .8, color1='dodgerblue')\n",
    "# \n",
    "# def update(frame):\n",
    "#     # Setzen Sie die Daten für den Halo-Punkt\n",
    "#     halo_point.set_data(x[frame], y[frame])\n",
    "#     return halo_point.get_artists()\n",
    "# \n",
    "# ani = FuncAnimation(fig, update, frames=100, blit=True, interval=10)\n",
    "# plt.show()"
   ],
   "metadata": {
    "collapsed": false,
    "ExecuteTime": {
     "end_time": "2023-10-29T22:15:37.092434Z",
     "start_time": "2023-10-29T22:15:37.090543Z"
    }
   },
   "id": "7d3fdebdf14c74f5"
  },
  {
   "cell_type": "code",
   "execution_count": 55,
   "outputs": [],
   "source": [
    "from matplotlib.animation import FuncAnimation\n",
    "from matplotlib import pyplot as plt\n",
    "import matplotlib\n",
    "matplotlib.use('QT5Agg')\n",
    "%matplotlib qt\n",
    "\n",
    "num_points = 1000\n",
    "x = np.linspace(0, 4 * np.pi, num_points)  # Erzeugt 100 Punkte von 0 bis 4π\n",
    "y = np.sin(x)\n",
    "\n",
    "# Erstellen Sie eine Figur und eine Achse für die Animation\n",
    "fig, ax = plt.subplots()\n",
    "ax.set_xlim(np.min(x) - 1, np.max(x) + 1)\n",
    "ax.set_ylim(-2, 2)\n",
    "\n",
    "# Erstellen Sie eine Instanz Ihrer Trajectory-Klasse\n",
    "datarange = 200  # Anzahl der Punkte, die in der Spur sichtbar sind\n",
    "color_decay = 2  # Ein Parameter, der die Farbveränderung beeinflusst\n",
    "trajectory = Trajectory(ax, size_main=1, size_side=2, datarange=datarange, color_decay=color_decay, color='dodgerblue', edgecolor='blue')\n",
    "\n",
    "# Animationsfunktion, die in jedem Frame aufgerufen wird\n",
    "def update(frame):\n",
    "    # In jedem Frame aktualisieren wir die Daten der Trajektorie\n",
    "    trajectory.set_data(x[:frame], y[:frame], frame)\n",
    "    \n",
    "    # Rückgabe der Künstler, die aktualisiert werden sollen\n",
    "    return trajectory.get_artists()\n",
    "\n",
    "# Erstellen Sie die Animation\n",
    "ani = FuncAnimation(fig, update, frames=num_points, blit=True, interval=50)\n",
    "\n",
    "# Anzeigen der Animation\n",
    "plt.show()"
   ],
   "metadata": {
    "collapsed": false,
    "ExecuteTime": {
     "end_time": "2023-10-29T22:15:37.263189Z",
     "start_time": "2023-10-29T22:15:37.099063Z"
    }
   },
   "id": "9aa0875850569393"
  }
 ],
 "metadata": {
  "kernelspec": {
   "display_name": "Python 3 (ipykernel)",
   "language": "python",
   "name": "python3"
  },
  "language_info": {
   "codemirror_mode": {
    "name": "ipython",
    "version": 3
   },
   "file_extension": ".py",
   "mimetype": "text/x-python",
   "name": "python",
   "nbconvert_exporter": "python",
   "pygments_lexer": "ipython3",
   "version": "3.10.10"
  }
 },
 "nbformat": 4,
 "nbformat_minor": 5
}
