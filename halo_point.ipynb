{
 "cells": [
  {
   "cell_type": "code",
   "execution_count": 141,
   "id": "be8ee4cf1f8b785c",
   "metadata": {
    "collapsed": false,
    "ExecuteTime": {
     "end_time": "2023-10-30T16:45:13.961381Z",
     "start_time": "2023-10-30T16:45:13.958158Z"
    }
   },
   "outputs": [],
   "source": [
    "import numpy as np\n",
    "from matplotlib.collections import LineCollection\n",
    "from matplotlib.colors import LinearSegmentedColormap"
   ]
  },
  {
   "cell_type": "code",
   "execution_count": 142,
   "id": "67f3b6b40def910e",
   "metadata": {
    "collapsed": false,
    "ExecuteTime": {
     "end_time": "2023-10-30T16:45:13.968172Z",
     "start_time": "2023-10-30T16:45:13.965300Z"
    }
   },
   "outputs": [],
   "source": [
    "class HaloPoint:\n",
    "    def __init__(self, ax, mass, color_decay, color1, color2='white'):\n",
    "        self.halo_points_color1 = [ax.plot([], [], 'o', c=color1, markersize=0, alpha=0, markeredgecolor='none', zorder=3)[0] for _ in range(100)]\n",
    "        self.halo_points_white = [ax.plot([], [], 'o', c=color2, markersize=0, alpha=0, markeredgecolor='none', zorder=4)[0] for _ in range(100)]\n",
    "        self.mass = mass\n",
    "        self.color_decay = color_decay\n",
    "        \n",
    "    def set_data(self, x, y):\n",
    "        radius = np.linspace(2, 20, 100)\n",
    "        for index, i in enumerate(radius):\n",
    "            self.halo_points_color1[index].set_data([x], [y])\n",
    "            self.halo_points_white[index].set_data([x], [y])\n",
    "            \n",
    "            self.halo_points_color1[index].set_markersize(self.mass*i)\n",
    "            self.halo_points_color1[index].set_alpha(np.exp(-(i-2))**self.color_decay)\n",
    "            \n",
    "            self.halo_points_white[index].set_markersize(self.mass*i)\n",
    "            self.halo_points_white[index].set_alpha(np.exp(-(i-2))**1)\n",
    "        \n",
    "    def get_artists(self):\n",
    "        return self.halo_points_color1 + self.halo_points_white"
   ]
  },
  {
   "cell_type": "code",
   "execution_count": 143,
   "outputs": [],
   "source": [
    "class Trajectory:\n",
    "    def __init__(self, ax, size_main, size_side, datarange, color_decay, decay_white, color, edgecolor):\n",
    "        self.trajectory_main = [ax.plot([], [], c=color, linewidth=size_main, alpha=0, zorder=4)[0] for _ in\n",
    "                                range(datarange - 1, 0, -1)]\n",
    "        self.trajectory_side = [ax.plot([], [], c=edgecolor, linewidth=size_side, alpha=0, zorder=3)[0] for _ in\n",
    "                                range(datarange - 1, 0, -1)]\n",
    "        self.trajectory_top = [ax.plot([], [], c='white', linewidth=size_side, alpha=0, zorder=5)[0] for _ in\n",
    "                               range(datarange - 1, 0, -1)]\n",
    "        self.color_decay = color_decay\n",
    "        self.decay_white = decay_white\n",
    "        self.datarange = datarange\n",
    "\n",
    "    def set_data(self, x, y, frame):\n",
    "        if len(x) != len(y):\n",
    "            raise ValueError(\"x and y must have the same number of elements\")\n",
    "        # for traj in self.trajectory_main + self.trajectory_side:\n",
    "        #     traj.set_data([], [])\n",
    "        start_index = max(0, frame - self.datarange)\n",
    "        subset_x = x[start_index:frame + 1]\n",
    "        subset_y = y[start_index:frame + 1]\n",
    "\n",
    "        num_segments = min(len(self.trajectory_main), len(subset_x) - 1)  # segments available\n",
    "\n",
    "        for s in range(num_segments):\n",
    "            segment_start = s  # start point of segment\n",
    "            segment_end = s + 1  # end point of segment\n",
    "            traj_index = num_segments - 1 - s  # position in list of trajectories in reversed order\n",
    "            fraction = 1 - (s / num_segments)\n",
    "            alpha = np.exp(-self.color_decay * fraction) * (1 - fraction)\n",
    "\n",
    "            self.trajectory_main[traj_index].set_data(subset_x[segment_start:segment_end + 1],\n",
    "                                                      subset_y[segment_start:segment_end + 1])\n",
    "            self.trajectory_side[traj_index].set_data(subset_x[segment_start:segment_end + 1],\n",
    "                                                      subset_y[segment_start:segment_end + 1])\n",
    "            self.trajectory_top[traj_index].set_data(subset_x[segment_start:segment_end + 1],\n",
    "                                                     subset_y[segment_start:segment_end + 1])\n",
    "            self.trajectory_main[traj_index].set_alpha(alpha)\n",
    "            self.trajectory_side[traj_index].set_alpha(alpha * 0.2)\n",
    "            self.trajectory_top[traj_index].set_alpha(np.exp(-self.decay_white * fraction) * (1 - fraction))\n",
    "\n",
    "    def get_artists(self):\n",
    "        return self.trajectory_main + self.trajectory_side + self.trajectory_top"
   ],
   "metadata": {
    "collapsed": false,
    "ExecuteTime": {
     "end_time": "2023-10-30T16:45:13.977345Z",
     "start_time": "2023-10-30T16:45:13.974053Z"
    }
   },
   "id": "faa6b57bf9a2802d"
  },
  {
   "cell_type": "code",
   "execution_count": 144,
   "outputs": [],
   "source": [
    "class TrajectoryOpt:\n",
    "    def __init__(self, ax, size_main, size_side, datarange, color1, color2):\n",
    "        self.datarange = datarange\n",
    "        self.colors = ['black', color1, color2,'white']\n",
    "        custom_cmap = LinearSegmentedColormap.from_list(\"custom\", self.colors, N=256)\n",
    "        \n",
    "        self.line1 = LineCollection([], cmap=custom_cmap, linewidths=size_main, zorder=3)\n",
    "        self.line2 = LineCollection([], cmap=custom_cmap, linewidths=size_side, zorder=2, alpha=.4)\n",
    "        self.line3 = LineCollection([], cmap=custom_cmap, linewidths=size_side+.5, zorder=1, alpha=.2)\n",
    "        ax.add_collection(self.line1)\n",
    "        ax.add_collection(self.line2)\n",
    "        ax.add_collection(self.line3)\n",
    "    \n",
    "    def set_data(self, x, y, frame):\n",
    "        start = max(0, frame-self.datarange)\n",
    "        end = frame\n",
    "        xs = x[start:end]\n",
    "        ys = y[start:end]\n",
    "        \n",
    "        points = np.array([xs, ys]).T.reshape(-1, 1, 2)\n",
    "        segments = np.concatenate([points[:-2], points[1:-1], points[2:]], axis=1)\n",
    "        self.line1.set_segments(segments)\n",
    "        self.line2.set_segments(segments)\n",
    "        self.line3.set_segments(segments)\n",
    "        \n",
    "        indices = np.linspace(start, end-1, len(xs)) #color coding based on index\n",
    "        self.line1.set_array(indices)\n",
    "        self.line2.set_array(indices)\n",
    "        self.line3.set_array(indices)\n",
    "        \n",
    "        self.line1.set_clim(start, end) #setting boundaries for color based on index\n",
    "        self.line2.set_clim(start, end)\n",
    "        self.line3.set_clim(start, end)\n",
    "    def get_artists(self):\n",
    "        return self.line1, self.line2, self.line3"
   ],
   "metadata": {
    "collapsed": false,
    "ExecuteTime": {
     "end_time": "2023-10-30T16:45:13.982729Z",
     "start_time": "2023-10-30T16:45:13.980474Z"
    }
   },
   "id": "61462fbf319e60c"
  },
  {
   "cell_type": "code",
   "execution_count": 145,
   "outputs": [],
   "source": [
    "\n",
    "from matplotlib import pyplot as plt\n",
    "from matplotlib import animation\n",
    "import matplotlib\n",
    "matplotlib.use('QT5Agg')\n",
    "%matplotlib qt\n",
    "\n",
    "# First set up the figure, the axis, and the plot element we want to animate\n",
    "fig, ax = plt.subplots()\n",
    "ax.set_xlim(-1.5, 1.5)\n",
    "ax.set_ylim(-1.5, 1.5)\n",
    "\n",
    "ax.grid(False)\n",
    "ax.axis('off')\n",
    "fig.patch.set_facecolor('black')\n",
    "\n",
    "num_frames = 600\n",
    "\n",
    "radius = 1\n",
    "theta = np.flip(np.linspace(0, 2 * np.pi, num_frames)) # Winkel\n",
    "x = radius * np.cos(theta)\n",
    "y = radius * np.sin(theta)\n",
    "\n",
    "def animate(i):\n",
    "\n",
    "    traj1.set_data(x, y, i)\n",
    "\n",
    "    return traj1.get_artists()\n",
    "\n",
    "traj1 = TrajectoryOpt(ax, 2, 3, 100, color1='dodgerblue', color2='dodgerblue')\n",
    "\n",
    "\n",
    "\n",
    "# call the animator.  blit=True means only re-draw the parts that have changed.\n",
    "anim = animation.FuncAnimation(fig, animate, frames=num_frames, interval=10)\n",
    "plt.show()"
   ],
   "metadata": {
    "collapsed": false,
    "ExecuteTime": {
     "end_time": "2023-10-30T16:45:14.045289Z",
     "start_time": "2023-10-30T16:45:13.989027Z"
    }
   },
   "id": "6aa4ec0d30a8cfe3"
  }
 ],
 "metadata": {
  "kernelspec": {
   "display_name": "Python 3 (ipykernel)",
   "language": "python",
   "name": "python3"
  },
  "language_info": {
   "codemirror_mode": {
    "name": "ipython",
    "version": 3
   },
   "file_extension": ".py",
   "mimetype": "text/x-python",
   "name": "python",
   "nbconvert_exporter": "python",
   "pygments_lexer": "ipython3",
   "version": "3.10.10"
  }
 },
 "nbformat": 4,
 "nbformat_minor": 5
}
