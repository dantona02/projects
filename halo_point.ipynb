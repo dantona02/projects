{
 "cells": [
  {
   "cell_type": "code",
   "execution_count": 78,
   "id": "be8ee4cf1f8b785c",
   "metadata": {
    "collapsed": false,
    "ExecuteTime": {
     "end_time": "2023-10-29T16:59:29.013947Z",
     "start_time": "2023-10-29T16:59:29.006510Z"
    }
   },
   "outputs": [],
   "source": [
    "import numpy as np"
   ]
  },
  {
   "cell_type": "code",
   "execution_count": 79,
   "id": "67f3b6b40def910e",
   "metadata": {
    "collapsed": false,
    "ExecuteTime": {
     "end_time": "2023-10-29T16:59:29.014624Z",
     "start_time": "2023-10-29T16:59:29.012184Z"
    }
   },
   "outputs": [],
   "source": [
    "class HaloPoint:\n",
    "    def __init__(self, ax, mass, color_decay, color1, color2='white'):\n",
    "        self.halo_points_color1 = [ax.plot([], [], 'o', c=color1, markersize=0, alpha=0, markeredgecolor='none', zorder=3)[0] for _ in range(100)]\n",
    "        self.halo_points_white = [ax.plot([], [], 'o', c=color2, markersize=0, alpha=0, markeredgecolor='none', zorder=4)[0] for _ in range(100)]\n",
    "        self.mass = mass\n",
    "        self.color_decay = color_decay\n",
    "        \n",
    "    def set_data(self, x, y):\n",
    "        radius = np.linspace(2, 20, 100)\n",
    "        for index, i in enumerate(radius):\n",
    "            self.halo_points_color1[index].set_data([x], [y])\n",
    "            self.halo_points_white[index].set_data([x], [y])\n",
    "            \n",
    "            self.halo_points_color1[index].set_markersize(self.mass*i)\n",
    "            self.halo_points_color1[index].set_alpha(np.exp(-(i-2))**self.color_decay)\n",
    "            \n",
    "            self.halo_points_white[index].set_markersize(self.mass*i)\n",
    "            self.halo_points_white[index].set_alpha(np.exp(-(i-2))**1)\n",
    "        \n",
    "    def get_artists(self):\n",
    "        return self.halo_points_color1 + self.halo_points_white"
   ]
  },
  {
   "cell_type": "code",
   "execution_count": 80,
   "outputs": [],
   "source": [
    "# from matplotlib.animation import FuncAnimation\n",
    "# import matplotlib.pyplot as plt\n",
    "# \n",
    "# fig, ax = plt.subplots()\n",
    "# ax.set_xlim(0, 10)  # Zum Beispiel\n",
    "# ax.set_ylim(0, 10)  # Zum Beispiel\n",
    "# \n",
    "# ax.grid(False)\n",
    "# ax.axis('off')\n",
    "# ax.set_xlim(-1, 10.5)\n",
    "# fig.patch.set_facecolor('black')\n",
    "# \n",
    "# # Beispiel-Daten (ersetzen Sie diese durch Ihre eigenen Daten)\n",
    "# t = np.linspace(0, 2 * np.pi, 4000)  # Zeitpunkte\n",
    "# x = 5 + 3 * np.cos(t)  # x-Koordinaten\n",
    "# y = 5 + 3 * np.sin(t)\n",
    "# \n",
    "# halo_point = HaloPoint(ax, 2, .8, color1='dodgerblue')\n",
    "# \n",
    "# def update(frame):\n",
    "#     # Setzen Sie die Daten für den Halo-Punkt\n",
    "#     halo_point.set_data(x[frame], y[frame])\n",
    "#     return halo_point.get_artists()\n",
    "# \n",
    "# ani = FuncAnimation(fig, update, frames=100, blit=True, interval=10)\n",
    "# plt.show()"
   ],
   "metadata": {
    "collapsed": false,
    "ExecuteTime": {
     "end_time": "2023-10-29T16:59:29.070830Z",
     "start_time": "2023-10-29T16:59:29.017279Z"
    }
   },
   "id": "10f33ef8ea9a1acd"
  }
 ],
 "metadata": {
  "kernelspec": {
   "display_name": "Python 3 (ipykernel)",
   "language": "python",
   "name": "python3"
  },
  "language_info": {
   "codemirror_mode": {
    "name": "ipython",
    "version": 3
   },
   "file_extension": ".py",
   "mimetype": "text/x-python",
   "name": "python",
   "nbconvert_exporter": "python",
   "pygments_lexer": "ipython3",
   "version": "3.10.10"
  }
 },
 "nbformat": 4,
 "nbformat_minor": 5
}
