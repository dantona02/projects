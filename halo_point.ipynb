{
 "cells": [
  {
   "cell_type": "code",
   "execution_count": 53,
   "id": "be8ee4cf1f8b785c",
   "metadata": {
    "ExecuteTime": {
     "end_time": "2023-10-29T16:13:32.065894Z",
     "start_time": "2023-10-29T16:13:32.061970Z"
    },
    "collapsed": false,
    "jupyter": {
     "outputs_hidden": false
    }
   },
   "outputs": [],
   "source": [
    "import numpy as np"
   ]
  },
  {
   "cell_type": "code",
   "execution_count": 54,
   "id": "67f3b6b40def910e",
   "metadata": {
    "ExecuteTime": {
     "end_time": "2023-10-29T16:13:32.071617Z",
     "start_time": "2023-10-29T16:13:32.067900Z"
    },
    "collapsed": false,
    "jupyter": {
     "outputs_hidden": false
    }
   },
   "outputs": [],
   "source": [
    "class HaloPoint:\n",
    "    def __init__(self, ax, mass, color_decay, color1, color2='white'):\n",
    "        self.halo_points_color1 = [ax.plot([], [], 'o', c=color1, markersize=0, alpha=0, markeredgecolor='none', zorder=3)[0] for _ in range(100)]\n",
    "        self.halo_points_white = [ax.plot([], [], 'o', c=color2, markersize=0, alpha=0, markeredgecolor='none', zorder=4)[0] for _ in range(100)]\n",
    "        self.mass = mass\n",
    "        self.color_decay = color_decay\n",
    "        \n",
    "    def set_data(self, x, y):\n",
    "        radius = np.linspace(2, 20, 100)\n",
    "        for index, i in enumerate(radius):\n",
    "            self.halo_points_color1[index].set_data([x], [y])\n",
    "            self.halo_points_white[index].set_data([x], [y])\n",
    "            \n",
    "            self.halo_points_color1[index].set_markersize(self.mass*i)\n",
    "            self.halo_points_color1[index].set_alpha(np.exp(-(i-2))**self.color_decay)\n",
    "            \n",
    "            self.halo_points_white[index].set_markersize(self.mass*i)\n",
    "            self.halo_points_white[index].set_alpha(np.exp(-(i-2))**1)\n",
    "        \n",
    "    def get_artists(self):\n",
    "        return self.halo_points_color1 + self.halo_points_white"
   ]
  }
 ],
 "metadata": {
  "kernelspec": {
   "display_name": "Python 3 (ipykernel)",
   "language": "python",
   "name": "python3"
  },
  "language_info": {
   "codemirror_mode": {
    "name": "ipython",
    "version": 3
   },
   "file_extension": ".py",
   "mimetype": "text/x-python",
   "name": "python",
   "nbconvert_exporter": "python",
   "pygments_lexer": "ipython3",
   "version": "3.10.10"
  }
 },
 "nbformat": 4,
 "nbformat_minor": 5
}
