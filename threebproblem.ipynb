{
 "cells": [
  {
   "cell_type": "code",
   "execution_count": 4,
   "outputs": [],
   "source": [
    "import numpy as np"
   ],
   "metadata": {
    "collapsed": false,
    "ExecuteTime": {
     "end_time": "2023-10-28T22:55:25.867186Z",
     "start_time": "2023-10-28T22:55:25.740296Z"
    }
   },
   "id": "be8ee4cf1f8b785c"
  },
  {
   "cell_type": "markdown",
   "source": [
    "# Simulation of planar a three-body problem"
   ],
   "metadata": {
    "collapsed": false
   },
   "id": "9c2db27edd4cdbd8"
  },
  {
   "cell_type": "markdown",
   "source": [
    "## Theory\n",
    "The newtonian equations for set of, in our case, three masses is given by \n",
    "\\begin{equation}\n",
    "\\frac{d^2 \\vec{r}_i}{d t^2}=\\sum_{j \\neq i=1}^{3} \\frac{G m_j}{r_{i j}^3} \\vec{r}_{i j}\n",
    "\\end{equation}\n",
    "All calculations are based on the specific initial conditions introduced by the following papers:\n",
    "\n",
    "https://arxiv.org/pdf/1709.04775.pdf\n",
    "https://arxiv.org/pdf/1303.0181.pdf\n",
    "\n",
    "We consider a planar three-body system with unequal masses ($m_1=m_2 \\neq m_3$),zero angular momentum in the case of $G=1$ and the initial conditions\n",
    "\\begin{equation}\n",
    "\\left\\{\\begin{array}{l}\\boldsymbol{r}_1(0)=\\left(x_1, x_2\\right)=-\\boldsymbol{r}_2(0), \\quad \\boldsymbol{r}_3(0)=(0,0) \\\\ \\dot{\\boldsymbol{r}}_1(0)=\\dot{\\boldsymbol{r}}_2(0)=\\left(v_1, v_2\\right), \\quad \\dot{\\boldsymbol{r}}_3(0)=-\\frac{m_1+m_2}{m_3} \\dot{\\boldsymbol{r}}_1(0)\\end{array}\\right.\n",
    "\\end{equation}\n",
    "Furthermore the paper introduces the transformations\n",
    "\\begin{equation}\n",
    "\\boldsymbol{r}_i^{\\prime}\\left(t^{\\prime}\\right)=\\boldsymbol{r}_i(t), \\quad \\boldsymbol{v}_i^{\\prime}\\left(t^{\\prime}\\right)=\\alpha \\boldsymbol{v}_i(t), t^{\\prime}=t / \\sqrt{\\alpha}, \\quad m_i^{\\prime}=\\alpha^2 m_i,\n",
    "\\end{equation}\n",
    "with an arbitrary $\\alpha>0$. The calculations require the newtonian equations to be dimensionless. To meet our purpose to simulate the movement of real celestial bodies, we can explicitly calculate $\\alpha$. The newtonian equations shall have the new form\n",
    "\\begin{equation}\n",
    "\\frac{d^2 \\vec{r}_i^{\\prime}}{d t^{\\prime 2}}=\\sum_{j \\neq i=1}^{3} \\frac{m_j^{\\prime}}{r_{i j}^{\\prime 3}} \\vec{r}_{i j}^{\\prime}\n",
    "\\end{equation}\n",
    "The mass transforms $m_i^{\\prime}=\\alpha^2 m_i$ for $G=1$ and $L=1$, where $M$ is the characteristic mass and $L$ is the characteristic length. But as $G=6.67 \\times 10^{-11}$ and $L$ is arbitrary, we get the transformation:\n",
    "\\begin{equation}\n",
    "\\frac{d^2 \\vec{r}_i^{\\prime}}{d t^{\\prime 2}}=G\\sum_{j \\neq i=1}^{3} \\frac{(\\alpha^{\\prime})^2 m_j}{r_{i j}^{3}} \\vec{r}_{i j}=\\alpha^2\\sum_{j \\neq i=1}^3 \\frac{m_j}{r_{i j}^3} \\vec{r}_{i j}=\\frac{L^3}{GM}\\sum_{j \\neq i=1}^3 \\frac{ m_j}{r_{i j}^3} \\vec{r}_{i j}=\\sum_{j \\neq i=1}^{3} \\frac{m_j^{\\prime}}{r_{i j}^{\\prime 3}} \\vec{r}_{i j}^{\\prime}\n",
    "\\end{equation}\n",
    "\n",
    "One can identify $\\alpha^2$ as $\\frac{L^3}{GM}$. Taking $\\alpha$ splitting it to the corresponding quantities, we get:\n",
    "\\begin{equation}\n",
    "\\vec{r}_i^{\\prime}=\\vec{r}_i / L\\hspace{1.5cm}\\vec{r}_{i j}^{\\prime}=\\vec{r}_{i j} / L\n",
    "\\end{equation}\n",
    "\\begin{equation}\n",
    "m_i^{\\prime}=m_i / M\n",
    "\\end{equation}\n",
    "\\begin{equation}\n",
    "t^{\\prime}=t \\sqrt{G M / L^3}\n",
    "\\end{equation}"
   ],
   "metadata": {
    "collapsed": false
   },
   "id": "c2584d0ca992ecdd"
  },
  {
   "cell_type": "markdown",
   "source": [
    "As the newtonian equations are second order ODE's, python is not able to solve them directly, we need to transform them into to coupled first oder ODE's:\n",
    "\\begin{equation}\n",
    "\\frac{d^2 y}{d t^2}=F\\left(y, \\frac{d y}{d t}, t\\right)\n",
    "\\end{equation}\n",
    "\\begin{equation}\n",
    "\\begin{gathered}\n",
    "\\frac{d y}{d t}=v_y \\\\\n",
    "\\frac{d v_y}{d t}=F\\left(y, v_y, t\\right)\n",
    "\\end{gathered}\n",
    "\\end{equation}\n",
    "\n",
    "We then get a system of first order ODE's that we can solve."
   ],
   "metadata": {
    "collapsed": false
   },
   "id": "d6aa8bbc8706de4f"
  },
  {
   "cell_type": "markdown",
   "source": [
    "As mentioned above the paper sets specific initial conditions for those periodic orbits, those are:\n",
    "- $x_1=-1$, $x_2=1$ and $x_3=0$\n",
    "- $y_1=y_2=y_3=0$\n",
    "- $v_1=v_{x1}=v_{x2}$ and $v_{x3}=-2v_1/m_3$\n",
    "- $v_2=v_{y1}=v_{y2}$ and $v_{y3}=-2v_1/m_3$"
   ],
   "metadata": {
    "collapsed": false
   },
   "id": "bfcb410dc751a43d"
  },
  {
   "cell_type": "code",
   "execution_count": 5,
   "outputs": [],
   "source": [
    "v1 = 0.39295\n",
    "v2 = 0.09758\n",
    "m3 = 1\n",
    "\n",
    "m1, m2 = 1, 1\n",
    "x1_0 = -1\n",
    "x2_0 = 1\n",
    "x_0 = 0\n",
    "y1_0, y2_0, y3_0 = 0, 0, 0\n",
    "vx1_0 = v1\n",
    "vx2_0 = v1\n",
    "vx3_0 = -2*v1/m3\n",
    "vy1_0 = v2\n",
    "vy2_0 = v2\n",
    "vy3_0 = -2*v2/m3"
   ],
   "metadata": {
    "collapsed": false,
    "ExecuteTime": {
     "end_time": "2023-10-28T22:55:25.873973Z",
     "start_time": "2023-10-28T22:55:25.870068Z"
    }
   },
   "id": "6f93ac200ec68d1d"
  },
  {
   "cell_type": "markdown",
   "source": [
    "Now we consider the system\n",
    "\\begin{equation}\n",
    "\\vec{R}=\\left(x_1, y_1, x_2, y_2, x_3, y_3, v_{x 1}, v_{y 1}, v_{x 2}, v_{y 2}, v_{x 3}, v_{y 3}\\right)\n",
    "\\end{equation}\n",
    "we want to solve for.\n",
    "In order to solve this problem, we need to take the derivative of $\\vec{R}$ with respect to $t$, which gives us:\n",
    "\\begin{equation}\n",
    "\\vec{R}=\\left(v_{x 1}, v_{y 1}, v_{x 2}, v_{y 2}, v_{x 3}, v_{y 3}, \\frac{d^2 \\vec{r}_{x1}^{\\prime}}{d t^{\\prime 2}}, \\frac{d^2 \\vec{r}_{y1}^{\\prime}}{d t^{\\prime 2}}, \\frac{d^2 \\vec{r}_{x2}^{\\prime}}{d t^{\\prime 2}}, \\frac{d^2 \\vec{r}_{y2}^{\\prime}}{d t^{\\prime 2}}, \\frac{d^2 \\vec{r}_{x3}^{\\prime}}{d t^{\\prime 2}}, \\frac{d^2 \\vec{r}_{y3}^{\\prime}}{d t^{\\prime 2}}\\right)\n",
    "\\end{equation}"
   ],
   "metadata": {
    "collapsed": false
   },
   "id": "144dee86621e2a04"
  },
  {
   "cell_type": "code",
   "execution_count": 6,
   "outputs": [],
   "source": [
    "def dR_dt(R, t):\n",
    "    x1, y1, x2, y2, x3, y3, vx1, vy1, vx2, vy2, vx3, vy3 = R\n",
    "    r12 = np.sqrt((x2-x1)**2+(y2-y1)**2)\n",
    "    r13 = np.sqrt((x3-x1)**2+(y3-y1)**2)\n",
    "    r23 = np.sqrt((x3-x2)**2+(y3-y2)**2)\n",
    "    return [vx1, vy1,\n",
    "            vx2, vy2,\n",
    "            vx3, vy3,\n",
    "            ]"
   ],
   "metadata": {
    "collapsed": false,
    "ExecuteTime": {
     "end_time": "2023-10-28T22:55:25.874378Z",
     "start_time": "2023-10-28T22:55:25.871391Z"
    }
   },
   "id": "c36102100decfab0"
  }
 ],
 "metadata": {
  "kernelspec": {
   "display_name": "Python 3",
   "language": "python",
   "name": "python3"
  },
  "language_info": {
   "codemirror_mode": {
    "name": "ipython",
    "version": 2
   },
   "file_extension": ".py",
   "mimetype": "text/x-python",
   "name": "python",
   "nbconvert_exporter": "python",
   "pygments_lexer": "ipython2",
   "version": "2.7.6"
  }
 },
 "nbformat": 4,
 "nbformat_minor": 5
}
