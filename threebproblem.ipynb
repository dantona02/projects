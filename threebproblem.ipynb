{
 "cells": [
  {
   "cell_type": "markdown",
   "source": [
    "# Simulation of planar a three-body problem"
   ],
   "metadata": {
    "collapsed": false
   },
   "id": "9c2db27edd4cdbd8"
  },
  {
   "cell_type": "markdown",
   "source": [
    "## Theory\n",
    "The newtonian equations for set of, in our case, three masses is given by \n",
    "\\begin{equation}\n",
    "\\frac{d^2 \\vec{r}_i}{d t^2}=\\sum_{j \\neq i=1}^{3} \\frac{G m_j}{r_{i j}^3} \\vec{r}_{i j}\n",
    "\\end{equation}\n",
    "All calculations are based on the specific initial conditions introduced by the following papers:\n",
    "\n",
    "https://arxiv.org/pdf/1709.04775.pdf\n",
    "https://arxiv.org/pdf/1303.0181.pdf\n",
    "\n",
    "We consider a planar three-body system with unequal masses ($m_1=m_2 \\neq m_3$),zero angular momentum in the case of $G=1$ and the initial conditions\n",
    "\\begin{equation}\n",
    "\\left\\{\\begin{array}{l}\\boldsymbol{r}_1(0)=\\left(x_1, x_2\\right)=-\\boldsymbol{r}_2(0), \\quad \\boldsymbol{r}_3(0)=(0,0) \\\\ \\dot{\\boldsymbol{r}}_1(0)=\\dot{\\boldsymbol{r}}_2(0)=\\left(v_1, v_2\\right), \\quad \\dot{\\boldsymbol{r}}_3(0)=-\\frac{m_1+m_2}{m_3} \\dot{\\boldsymbol{r}}_1(0)\\end{array}\\right.\n",
    "\\end{equation}\n",
    "Furthermore the paper introduces the transformations\n",
    "\\begin{equation}\n",
    "\\boldsymbol{r}_i^{\\prime}\\left(t^{\\prime}\\right)=\\boldsymbol{r}_i(t), \\quad \\boldsymbol{v}_i^{\\prime}\\left(t^{\\prime}\\right)=\\alpha \\boldsymbol{v}_i(t), t^{\\prime}=t / \\sqrt{\\alpha}, \\quad m_i^{\\prime}=\\alpha^2 m_i,\n",
    "\\end{equation}\n",
    "with an arbitrary $\\alpha>0$. The calculations require the newtonian equations to be dimensionless. To meet our purpose to simulate the movement of real celestial bodies, we can explicitly calculate $\\alpha$. The newtonian equations shall have the new form\n",
    "\\begin{equation}\n",
    "\\frac{d^2 \\vec{r}_i^{\\prime}}{d t^{\\prime 2}}=\\sum_{j \\neq i=1}^{3} \\frac{m_j^{\\prime}}{r_{i j}^{\\prime 3}} \\vec{r}_{i j}^{\\prime}\n",
    "\\end{equation}\n",
    "The mass transforms $m_i^{\\prime}=\\alpha^2 m_i$ for $G=1$ and $L=1$, where $M$ is the characteristic mass and $L$ is the characteristic length. But as $G=6.67 \\times 10^{-11}$ and $L$ is arbitrary, we get the transformation:\n",
    "\\begin{equation}\n",
    "\\frac{d^2 \\vec{r}_i^{\\prime}}{d t^{\\prime}^2}=G\\sum_{j \\neq i=1}^3 \\frac{\\alpha'^2 m_j}{r_{i j}^3} \\vec{r}_{i j}=\\alpha^2\\sum_{j \\neq i=1}^3 \\frac{m_j}{r_{i j}^3} \\vec{r}_{i j}=\\frac{L^3}{GM}\\sum_{j \\neq i=1}^3 \\frac{ m_j}{r_{i j}^3} \\vec{r}_{i j}=\\sum_{j \\neq i=1}^{3} \\frac{m_j^{\\prime}}{r_{i j}^{\\prime 3}} \\vec{r}_{i j}^{\\prime}\n",
    "\\end{equation}\n",
    "\n",
    "One can identify $\\alpha^2$ as $\\frac{L^3}{GM}$. Taking $\\alpha$ we get the desired transformations\n",
    "\n",
    "\\begin{equation}\n",
    "\\begin{aligned}\n",
    "\\frac{d^2 \\vec{r}_i^{\\prime}}{d t^{\\prime}^2} &= G\\sum_{\\substack{j \\neq i \\\\ j=1}}^3 \\frac{\\alpha'^2 m_j}{r_{i j}^3} \\vec{r}_{i j} \\\\\n",
    "&= \\alpha^2\\sum_{\\substack{j \\neq i \\\\ j=1}}^3 \\frac{m_j}{r_{i j}^3} \\vec{r}_{i j} \\\\\n",
    "&= \\frac{L^3}{GM}\\sum_{\\substack{j \\neq i \\\\ j=1}}^3 \\frac{ m_j}{r_{i j}^3} \\vec{r}_{i j} \\\\\n",
    "&= \\sum_{\\substack{j \\neq i \\\\ j=1}}^{3} \\frac{m_j^{\\prime}}{r_{i j}^{\\prime 3}} \\vec{r}_{i j}^{\\prime}\n",
    "\\end{aligned}\n",
    "\\end{equation}\n"
   ],
   "metadata": {
    "collapsed": false
   },
   "id": "c2584d0ca992ecdd"
  },
  {
   "cell_type": "code",
   "execution_count": null,
   "outputs": [],
   "source": [],
   "metadata": {
    "collapsed": false,
    "ExecuteTime": {
     "end_time": "2023-10-28T21:15:51.845368Z",
     "start_time": "2023-10-28T21:15:51.837441Z"
    }
   },
   "id": "bd21b92b8dd15e48"
  }
 ],
 "metadata": {
  "kernelspec": {
   "display_name": "Python 3",
   "language": "python",
   "name": "python3"
  },
  "language_info": {
   "codemirror_mode": {
    "name": "ipython",
    "version": 2
   },
   "file_extension": ".py",
   "mimetype": "text/x-python",
   "name": "python",
   "nbconvert_exporter": "python",
   "pygments_lexer": "ipython2",
   "version": "2.7.6"
  }
 },
 "nbformat": 4,
 "nbformat_minor": 5
}
