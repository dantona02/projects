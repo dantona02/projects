{
 "cells": [
  {
   "cell_type": "code",
   "execution_count": 306,
   "outputs": [],
   "source": [
    "import matplotlib.pyplot as plt\n",
    "import numpy as np\n",
    "from scipy.integrate import solve_ivp\n",
    "from scipy import constants"
   ],
   "metadata": {
    "collapsed": false,
    "ExecuteTime": {
     "end_time": "2023-10-30T09:46:46.497558Z",
     "start_time": "2023-10-30T09:46:46.479230Z"
    }
   },
   "id": "be8ee4cf1f8b785c"
  },
  {
   "cell_type": "markdown",
   "source": [
    "# Simulation of planar a three-body problem"
   ],
   "metadata": {
    "collapsed": false
   },
   "id": "9c2db27edd4cdbd8"
  },
  {
   "cell_type": "markdown",
   "source": [
    "## Theory\n",
    "The newtonian equations for set of, in our case, three masses is given by \n",
    "\\begin{equation}\n",
    "\\frac{d^2 \\vec{r}_i}{d t^2}=\\sum_{j \\neq i=1}^{3} \\frac{G m_j}{r_{i j}^3} \\vec{r}_{i j}\n",
    "\\end{equation}\n",
    "All calculations are based on the specific initial conditions introduced by the following papers:\n",
    "\n",
    "https://arxiv.org/pdf/1709.04775.pdf\n",
    "https://arxiv.org/pdf/1303.0181.pdf\n",
    "\n",
    "We consider a planar three-body system with unequal masses ($m_1=m_2 \\neq m_3$),zero angular momentum in the case of $G=1$ and the initial conditions\n",
    "\\begin{equation}\n",
    "\\left\\{\\begin{array}{l}\\boldsymbol{r}_1(0)=\\left(x_1, x_2\\right)=-\\boldsymbol{r}_2(0), \\quad \\boldsymbol{r}_3(0)=(0,0) \\\\ \\dot{\\boldsymbol{r}}_1(0)=\\dot{\\boldsymbol{r}}_2(0)=\\left(v_1, v_2\\right), \\quad \\dot{\\boldsymbol{r}}_3(0)=-\\frac{m_1+m_2}{m_3} \\dot{\\boldsymbol{r}}_1(0)\\end{array}\\right.\n",
    "\\end{equation}\n",
    "Furthermore the paper introduces the transformations\n",
    "\\begin{equation}\n",
    "\\boldsymbol{r}_i^{\\prime}\\left(t^{\\prime}\\right)=\\boldsymbol{r}_i(t), \\quad \\boldsymbol{v}_i^{\\prime}\\left(t^{\\prime}\\right)=\\alpha \\boldsymbol{v}_i(t), t^{\\prime}=t / \\sqrt{\\alpha}, \\quad m_i^{\\prime}=\\alpha^2 m_i,\n",
    "\\end{equation}\n",
    "with an arbitrary $\\alpha>0$. The calculations require the newtonian equations to be dimensionless. To meet our purpose to simulate the movement of real celestial bodies, we can explicitly calculate $\\alpha$. The newtonian equations shall have the new form\n",
    "\\begin{equation}\n",
    "\\frac{d^2 \\vec{r}_i^{\\prime}}{d t^{\\prime 2}}=\\sum_{j \\neq i=1}^{3} \\frac{m_j^{\\prime}}{r_{i j}^{\\prime 3}} \\vec{r}_{i j}^{\\prime}\n",
    "\\end{equation}\n",
    "The mass transforms $m_i^{\\prime}=\\alpha^2 m_i$ for $G=1$ and $L=1$, where $M$ is the characteristic mass and $L$ is the characteristic length. But as $G=6.67 \\times 10^{-11}$ and $L$ is arbitrary, we get the transformation:\n",
    "\\begin{equation}\n",
    "\\frac{d^2 \\vec{r}_i^{\\prime}}{d t^{\\prime 2}}=G\\sum_{j \\neq i=1}^{3} \\frac{(\\alpha^{\\prime})^2 m_j}{r_{i j}^{3}} \\vec{r}_{i j}=\\alpha^2\\sum_{j \\neq i=1}^3 \\frac{m_j}{r_{i j}^3} \\vec{r}_{i j}=\\frac{L^3}{GM}\\sum_{j \\neq i=1}^3 \\frac{ m_j}{r_{i j}^3} \\vec{r}_{i j}=\\sum_{j \\neq i=1}^{3} \\frac{m_j^{\\prime}}{r_{i j}^{\\prime 3}} \\vec{r}_{i j}^{\\prime}\n",
    "\\end{equation}\n",
    "\n",
    "One can identify $\\alpha^2$ as $\\frac{L^3}{GM}$. Taking $\\alpha$ splitting it to the corresponding quantities, we get:\n",
    "\\begin{equation}\n",
    "\\vec{r}_i^{\\prime}=\\vec{r}_i / L\\hspace{1.5cm}\\vec{r}_{i j}^{\\prime}=\\vec{r}_{i j} / L\n",
    "\\end{equation}\n",
    "\\begin{equation}\n",
    "m_i^{\\prime}=m_i / M\n",
    "\\end{equation}\n",
    "\\begin{equation}\n",
    "t^{\\prime}=t \\sqrt{G M / L^3}\n",
    "\\end{equation}"
   ],
   "metadata": {
    "collapsed": false
   },
   "id": "c2584d0ca992ecdd"
  },
  {
   "cell_type": "markdown",
   "source": [
    "As the newtonian equations are second order ODE's, python is not able to solve them directly, we need to transform them into to coupled first oder ODE's:\n",
    "\\begin{equation}\n",
    "\\frac{d^2 y}{d t^2}=F\\left(y, \\frac{d y}{d t}, t\\right)\n",
    "\\end{equation}\n",
    "\\begin{equation}\n",
    "\\begin{gathered}\n",
    "\\frac{d y}{d t}=v_y \\\\\n",
    "\\frac{d v_y}{d t}=F\\left(y, v_y, t\\right)\n",
    "\\end{gathered}\n",
    "\\end{equation}\n",
    "\n",
    "We then get a system of first order ODE's that we can solve."
   ],
   "metadata": {
    "collapsed": false
   },
   "id": "d6aa8bbc8706de4f"
  },
  {
   "cell_type": "markdown",
   "source": [
    "As mentioned above the paper sets specific initial conditions for those periodic orbits, those are:\n",
    "- $x_1=-1$, $x_2=1$ and $x_3=0$\n",
    "- $y_1=y_2=y_3=0$\n",
    "- $v_1=v_{x1}=v_{x2}$ and $v_{x3}=-2v_1/m_3$\n",
    "- $v_2=v_{y1}=v_{y2}$ and $v_{y3}=-2v_1/m_3$"
   ],
   "metadata": {
    "collapsed": false
   },
   "id": "bfcb410dc751a43d"
  },
  {
   "cell_type": "code",
   "execution_count": 307,
   "outputs": [],
   "source": [
    "v1 = 0.39295\n",
    "v2 = 0.09758\n",
    "m3 = 1\n",
    "\n",
    "m1 = 1\n",
    "m2 = 1\n",
    "x1_0 = -1\n",
    "x2_0 = 1\n",
    "x3_0 = 0\n",
    "y1_0, y2_0, y3_0 = 0, 0, 0\n",
    "vx1_0 = v1\n",
    "vx2_0 = v1\n",
    "vx3_0 = -2*v1/m3\n",
    "vy1_0 = v2\n",
    "vy2_0 = v2\n",
    "vy3_0 = -2*v2/m3"
   ],
   "metadata": {
    "collapsed": false,
    "ExecuteTime": {
     "end_time": "2023-10-30T09:46:46.515516Z",
     "start_time": "2023-10-30T09:46:46.486554Z"
    }
   },
   "id": "6f93ac200ec68d1d"
  },
  {
   "cell_type": "markdown",
   "source": [
    "Now we consider the system\n",
    "\\begin{equation}\n",
    "\\vec{R}=\\left(x_1, y_1, x_2, y_2, x_3, y_3, v_{x 1}, v_{y 1}, v_{x 2}, v_{y 2}, v_{x 3}, v_{y 3}\\right)\n",
    "\\end{equation}\n",
    "we want to solve for.\n",
    "In order to solve this problem, we need to take the derivative of $\\vec{R}$ with respect to $t$, which gives us:\n",
    "\\begin{equation}\n",
    "\\vec{R}=\\left(v_{x 1}, v_{y 1}, v_{x 2}, v_{y 2}, v_{x 3}, v_{y 3}, \\frac{d^2 \\vec{r}_{x1}^{\\prime}}{d t^{\\prime 2}}, \\frac{d^2 \\vec{r}_{y1}^{\\prime}}{d t^{\\prime 2}}, \\frac{d^2 \\vec{r}_{x2}^{\\prime}}{d t^{\\prime 2}}, \\frac{d^2 \\vec{r}_{y2}^{\\prime}}{d t^{\\prime 2}}, \\frac{d^2 \\vec{r}_{x3}^{\\prime}}{d t^{\\prime 2}}, \\frac{d^2 \\vec{r}_{y3}^{\\prime}}{d t^{\\prime 2}}\\right)\n",
    "\\end{equation}"
   ],
   "metadata": {
    "collapsed": false
   },
   "id": "144dee86621e2a04"
  },
  {
   "cell_type": "code",
   "execution_count": 308,
   "outputs": [],
   "source": [
    "def dR_dt(t, R):\n",
    "    x1, y1, x2, y2, x3, y3, vx1, vy1, vx2, vy2, vx3, vy3 = R\n",
    "    r12 = np.sqrt((x2-x1)**2+(y2-y1)**2)\n",
    "    r13 = np.sqrt((x3-x1)**2+(y3-y1)**2)\n",
    "    r23 = np.sqrt((x2-x3)**2+(y2-y3)**2)\n",
    "    return [vx1, vy1, \n",
    "            vx2, vy2,\n",
    "            vx3, vy3,\n",
    "            m2/(r12**3)*(x2-x1)+m3/(r13**3)*(x3-x1), #m1\n",
    "            m2/(r12**3)*(y2-y1)+m3/(r13**3)*(y3-y1),\n",
    "            m1/(r12**3)*(x1-x2)+m3/(r23**3)*(x3-x2), #m2\n",
    "            m1/(r12**3)*(y1-y2)+m3/(r23**3)*(y3-y2),\n",
    "            m1/(r13**3)*(x1-x3)+m2/(r23**3)*(x2-x3), #m3\n",
    "            m1/(r13**3)*(y1-y3)+m2/(r23**3)*(y2-y3)]"
   ],
   "metadata": {
    "collapsed": false,
    "ExecuteTime": {
     "end_time": "2023-10-30T09:46:46.528524Z",
     "start_time": "2023-10-30T09:46:46.492632Z"
    }
   },
   "id": "c36102100decfab0"
  },
  {
   "cell_type": "code",
   "execution_count": 309,
   "outputs": [],
   "source": [
    "t = np.linspace(0, 10, 4000)"
   ],
   "metadata": {
    "collapsed": false,
    "ExecuteTime": {
     "end_time": "2023-10-30T09:46:46.531618Z",
     "start_time": "2023-10-30T09:46:46.495718Z"
    }
   },
   "id": "4e40c298d3322ccc"
  },
  {
   "cell_type": "code",
   "execution_count": 310,
   "outputs": [],
   "source": [
    "y0 = [x1_0, y1_0, x2_0, y2_0, x3_0, y3_0, vx1_0, vy1_0, vx2_0, vy2_0, vx3_0, vy3_0]\n",
    "t_span = (0, 10)"
   ],
   "metadata": {
    "collapsed": false,
    "ExecuteTime": {
     "end_time": "2023-10-30T09:46:46.532454Z",
     "start_time": "2023-10-30T09:46:46.499303Z"
    }
   },
   "id": "43197ddf9d55d40f"
  },
  {
   "cell_type": "code",
   "execution_count": 311,
   "outputs": [],
   "source": [
    "sol = solve_ivp(dR_dt, t_span, y0=y0, method='DOP853', t_eval=t, rtol=1e-13, atol=1e-16)"
   ],
   "metadata": {
    "collapsed": false,
    "ExecuteTime": {
     "end_time": "2023-10-30T09:46:46.829032Z",
     "start_time": "2023-10-30T09:46:46.501877Z"
    }
   },
   "id": "579b9a615b7d4057"
  },
  {
   "cell_type": "code",
   "execution_count": 312,
   "outputs": [],
   "source": [
    "t = sol.t\n",
    "x1 = sol.y[0]\n",
    "y1 = sol.y[1]\n",
    "x2 = sol.y[2]\n",
    "y2 = sol.y[3]\n",
    "x3 = sol.y[4]\n",
    "y3 = sol.y[5]"
   ],
   "metadata": {
    "collapsed": false,
    "ExecuteTime": {
     "end_time": "2023-10-30T09:46:46.833787Z",
     "start_time": "2023-10-30T09:46:46.829843Z"
    }
   },
   "id": "804c11f4b225cbe6"
  },
  {
   "cell_type": "code",
   "execution_count": 313,
   "outputs": [
    {
     "data": {
      "text/plain": "[<matplotlib.lines.Line2D at 0x35828a140>]"
     },
     "execution_count": 313,
     "metadata": {},
     "output_type": "execute_result"
    }
   ],
   "source": [
    "plt.plot(t, y1)"
   ],
   "metadata": {
    "collapsed": false,
    "ExecuteTime": {
     "end_time": "2023-10-30T09:46:46.867581Z",
     "start_time": "2023-10-30T09:46:46.833485Z"
    }
   },
   "id": "2ea32a380d938da0"
  },
  {
   "cell_type": "markdown",
   "source": [
    "After having solved the problem we still need to transform back the time, while the other quantities remain invariant."
   ],
   "metadata": {
    "collapsed": false
   },
   "id": "31bdf03aa8306d60"
  },
  {
   "cell_type": "code",
   "execution_count": 314,
   "outputs": [],
   "source": [
    "G = constants.G\n",
    "L = 1.495978707*1e11 #distance earth-sun in m\n",
    "M = 1.98892*1e30 #mass sun in kg\n",
    "\n",
    "alpha = L**3/(G*M)"
   ],
   "metadata": {
    "collapsed": false,
    "ExecuteTime": {
     "end_time": "2023-10-30T09:46:46.867713Z",
     "start_time": "2023-10-30T09:46:46.860961Z"
    }
   },
   "id": "48b3e0b19318892e"
  },
  {
   "cell_type": "code",
   "execution_count": 315,
   "outputs": [
    {
     "data": {
      "text/plain": "0.002500625156289072"
     },
     "execution_count": 315,
     "metadata": {},
     "output_type": "execute_result"
    }
   ],
   "source": [
    "np.diff(t)[0]"
   ],
   "metadata": {
    "collapsed": false,
    "ExecuteTime": {
     "end_time": "2023-10-30T09:46:46.867755Z",
     "start_time": "2023-10-30T09:46:46.861758Z"
    }
   },
   "id": "fd66a2e2fe52c039"
  },
  {
   "cell_type": "markdown",
   "source": [
    "# Animation of the trajectories"
   ],
   "metadata": {
    "collapsed": false
   },
   "id": "550f88dec8b5e356"
  },
  {
   "cell_type": "code",
   "execution_count": 316,
   "outputs": [],
   "source": [
    "import matplotlib\n",
    "from matplotlib.animation import FuncAnimation\n",
    "from halo_point import HaloPoint, Trajectory\n",
    "import matplotlib.animation as animation\n",
    "from matplotlib.animation import PillowWriter\n",
    "matplotlib.use('QT5Agg')"
   ],
   "metadata": {
    "collapsed": false,
    "ExecuteTime": {
     "end_time": "2023-10-30T09:46:46.879708Z",
     "start_time": "2023-10-30T09:46:46.865598Z"
    }
   },
   "id": "777589ad91387121"
  },
  {
   "cell_type": "code",
   "execution_count": 317,
   "outputs": [],
   "source": [
    "%matplotlib qt"
   ],
   "metadata": {
    "collapsed": false,
    "ExecuteTime": {
     "end_time": "2023-10-30T09:46:46.881041Z",
     "start_time": "2023-10-30T09:46:46.866908Z"
    }
   },
   "id": "a3c61d2a4d83b6fc"
  },
  {
   "cell_type": "code",
   "execution_count": 318,
   "outputs": [
    {
     "ename": "KeyboardInterrupt",
     "evalue": "",
     "output_type": "error",
     "traceback": [
      "\u001B[0;31m---------------------------------------------------------------------------\u001B[0m",
      "\u001B[0;31mKeyboardInterrupt\u001B[0m                         Traceback (most recent call last)",
      "File \u001B[0;32m~/miniconda3/envs/juplab/lib/python3.10/site-packages/matplotlib/animation.py:233\u001B[0m, in \u001B[0;36mAbstractMovieWriter.saving\u001B[0;34m(self, fig, outfile, dpi, *args, **kwargs)\u001B[0m\n\u001B[1;32m    232\u001B[0m \u001B[38;5;28;01mtry\u001B[39;00m:\n\u001B[0;32m--> 233\u001B[0m     \u001B[38;5;28;01myield\u001B[39;00m \u001B[38;5;28mself\u001B[39m\n\u001B[1;32m    234\u001B[0m \u001B[38;5;28;01mfinally\u001B[39;00m:\n",
      "File \u001B[0;32m~/miniconda3/envs/juplab/lib/python3.10/site-packages/matplotlib/animation.py:1107\u001B[0m, in \u001B[0;36mAnimation.save\u001B[0;34m(self, filename, writer, fps, dpi, codec, bitrate, extra_args, metadata, extra_anim, savefig_kwargs, progress_callback)\u001B[0m\n\u001B[1;32m   1106\u001B[0m         frame_number \u001B[38;5;241m+\u001B[39m\u001B[38;5;241m=\u001B[39m \u001B[38;5;241m1\u001B[39m\n\u001B[0;32m-> 1107\u001B[0m \u001B[43mwriter\u001B[49m\u001B[38;5;241;43m.\u001B[39;49m\u001B[43mgrab_frame\u001B[49m\u001B[43m(\u001B[49m\u001B[38;5;241;43m*\u001B[39;49m\u001B[38;5;241;43m*\u001B[39;49m\u001B[43msavefig_kwargs\u001B[49m\u001B[43m)\u001B[49m\n",
      "File \u001B[0;32m~/miniconda3/envs/juplab/lib/python3.10/site-packages/matplotlib/animation.py:495\u001B[0m, in \u001B[0;36mPillowWriter.grab_frame\u001B[0;34m(self, **savefig_kwargs)\u001B[0m\n\u001B[1;32m    494\u001B[0m buf \u001B[38;5;241m=\u001B[39m BytesIO()\n\u001B[0;32m--> 495\u001B[0m \u001B[38;5;28;43mself\u001B[39;49m\u001B[38;5;241;43m.\u001B[39;49m\u001B[43mfig\u001B[49m\u001B[38;5;241;43m.\u001B[39;49m\u001B[43msavefig\u001B[49m\u001B[43m(\u001B[49m\n\u001B[1;32m    496\u001B[0m \u001B[43m    \u001B[49m\u001B[43mbuf\u001B[49m\u001B[43m,\u001B[49m\u001B[43m \u001B[49m\u001B[38;5;241;43m*\u001B[39;49m\u001B[38;5;241;43m*\u001B[39;49m\u001B[43m{\u001B[49m\u001B[38;5;241;43m*\u001B[39;49m\u001B[38;5;241;43m*\u001B[39;49m\u001B[43msavefig_kwargs\u001B[49m\u001B[43m,\u001B[49m\u001B[43m \u001B[49m\u001B[38;5;124;43m\"\u001B[39;49m\u001B[38;5;124;43mformat\u001B[39;49m\u001B[38;5;124;43m\"\u001B[39;49m\u001B[43m:\u001B[49m\u001B[43m \u001B[49m\u001B[38;5;124;43m\"\u001B[39;49m\u001B[38;5;124;43mrgba\u001B[39;49m\u001B[38;5;124;43m\"\u001B[39;49m\u001B[43m,\u001B[49m\u001B[43m \u001B[49m\u001B[38;5;124;43m\"\u001B[39;49m\u001B[38;5;124;43mdpi\u001B[39;49m\u001B[38;5;124;43m\"\u001B[39;49m\u001B[43m:\u001B[49m\u001B[43m \u001B[49m\u001B[38;5;28;43mself\u001B[39;49m\u001B[38;5;241;43m.\u001B[39;49m\u001B[43mdpi\u001B[49m\u001B[43m}\u001B[49m\u001B[43m)\u001B[49m\n\u001B[1;32m    497\u001B[0m \u001B[38;5;28mself\u001B[39m\u001B[38;5;241m.\u001B[39m_frames\u001B[38;5;241m.\u001B[39mappend(Image\u001B[38;5;241m.\u001B[39mfrombuffer(\n\u001B[1;32m    498\u001B[0m     \u001B[38;5;124m\"\u001B[39m\u001B[38;5;124mRGBA\u001B[39m\u001B[38;5;124m\"\u001B[39m, \u001B[38;5;28mself\u001B[39m\u001B[38;5;241m.\u001B[39mframe_size, buf\u001B[38;5;241m.\u001B[39mgetbuffer(), \u001B[38;5;124m\"\u001B[39m\u001B[38;5;124mraw\u001B[39m\u001B[38;5;124m\"\u001B[39m, \u001B[38;5;124m\"\u001B[39m\u001B[38;5;124mRGBA\u001B[39m\u001B[38;5;124m\"\u001B[39m, \u001B[38;5;241m0\u001B[39m, \u001B[38;5;241m1\u001B[39m))\n",
      "File \u001B[0;32m~/miniconda3/envs/juplab/lib/python3.10/site-packages/matplotlib/figure.py:3343\u001B[0m, in \u001B[0;36mFigure.savefig\u001B[0;34m(self, fname, transparent, **kwargs)\u001B[0m\n\u001B[1;32m   3340\u001B[0m         stack\u001B[38;5;241m.\u001B[39menter_context(\n\u001B[1;32m   3341\u001B[0m             ax\u001B[38;5;241m.\u001B[39mpatch\u001B[38;5;241m.\u001B[39m_cm_set(facecolor\u001B[38;5;241m=\u001B[39m\u001B[38;5;124m'\u001B[39m\u001B[38;5;124mnone\u001B[39m\u001B[38;5;124m'\u001B[39m, edgecolor\u001B[38;5;241m=\u001B[39m\u001B[38;5;124m'\u001B[39m\u001B[38;5;124mnone\u001B[39m\u001B[38;5;124m'\u001B[39m))\n\u001B[0;32m-> 3343\u001B[0m \u001B[38;5;28;43mself\u001B[39;49m\u001B[38;5;241;43m.\u001B[39;49m\u001B[43mcanvas\u001B[49m\u001B[38;5;241;43m.\u001B[39;49m\u001B[43mprint_figure\u001B[49m\u001B[43m(\u001B[49m\u001B[43mfname\u001B[49m\u001B[43m,\u001B[49m\u001B[43m \u001B[49m\u001B[38;5;241;43m*\u001B[39;49m\u001B[38;5;241;43m*\u001B[39;49m\u001B[43mkwargs\u001B[49m\u001B[43m)\u001B[49m\n",
      "File \u001B[0;32m~/miniconda3/envs/juplab/lib/python3.10/site-packages/matplotlib/backends/backend_qtagg.py:75\u001B[0m, in \u001B[0;36mFigureCanvasQTAgg.print_figure\u001B[0;34m(self, *args, **kwargs)\u001B[0m\n\u001B[1;32m     74\u001B[0m \u001B[38;5;28;01mdef\u001B[39;00m \u001B[38;5;21mprint_figure\u001B[39m(\u001B[38;5;28mself\u001B[39m, \u001B[38;5;241m*\u001B[39margs, \u001B[38;5;241m*\u001B[39m\u001B[38;5;241m*\u001B[39mkwargs):\n\u001B[0;32m---> 75\u001B[0m     \u001B[38;5;28;43msuper\u001B[39;49m\u001B[43m(\u001B[49m\u001B[43m)\u001B[49m\u001B[38;5;241;43m.\u001B[39;49m\u001B[43mprint_figure\u001B[49m\u001B[43m(\u001B[49m\u001B[38;5;241;43m*\u001B[39;49m\u001B[43margs\u001B[49m\u001B[43m,\u001B[49m\u001B[43m \u001B[49m\u001B[38;5;241;43m*\u001B[39;49m\u001B[38;5;241;43m*\u001B[39;49m\u001B[43mkwargs\u001B[49m\u001B[43m)\u001B[49m\n\u001B[1;32m     76\u001B[0m     \u001B[38;5;28mself\u001B[39m\u001B[38;5;241m.\u001B[39mdraw()\n",
      "File \u001B[0;32m~/miniconda3/envs/juplab/lib/python3.10/site-packages/matplotlib/backend_bases.py:2366\u001B[0m, in \u001B[0;36mFigureCanvasBase.print_figure\u001B[0;34m(self, filename, dpi, facecolor, edgecolor, orientation, format, bbox_inches, pad_inches, bbox_extra_artists, backend, **kwargs)\u001B[0m\n\u001B[1;32m   2365\u001B[0m     \u001B[38;5;28;01mwith\u001B[39;00m cbook\u001B[38;5;241m.\u001B[39m_setattr_cm(\u001B[38;5;28mself\u001B[39m\u001B[38;5;241m.\u001B[39mfigure, dpi\u001B[38;5;241m=\u001B[39mdpi):\n\u001B[0;32m-> 2366\u001B[0m         result \u001B[38;5;241m=\u001B[39m \u001B[43mprint_method\u001B[49m\u001B[43m(\u001B[49m\n\u001B[1;32m   2367\u001B[0m \u001B[43m            \u001B[49m\u001B[43mfilename\u001B[49m\u001B[43m,\u001B[49m\n\u001B[1;32m   2368\u001B[0m \u001B[43m            \u001B[49m\u001B[43mfacecolor\u001B[49m\u001B[38;5;241;43m=\u001B[39;49m\u001B[43mfacecolor\u001B[49m\u001B[43m,\u001B[49m\n\u001B[1;32m   2369\u001B[0m \u001B[43m            \u001B[49m\u001B[43medgecolor\u001B[49m\u001B[38;5;241;43m=\u001B[39;49m\u001B[43medgecolor\u001B[49m\u001B[43m,\u001B[49m\n\u001B[1;32m   2370\u001B[0m \u001B[43m            \u001B[49m\u001B[43morientation\u001B[49m\u001B[38;5;241;43m=\u001B[39;49m\u001B[43morientation\u001B[49m\u001B[43m,\u001B[49m\n\u001B[1;32m   2371\u001B[0m \u001B[43m            \u001B[49m\u001B[43mbbox_inches_restore\u001B[49m\u001B[38;5;241;43m=\u001B[39;49m\u001B[43m_bbox_inches_restore\u001B[49m\u001B[43m,\u001B[49m\n\u001B[1;32m   2372\u001B[0m \u001B[43m            \u001B[49m\u001B[38;5;241;43m*\u001B[39;49m\u001B[38;5;241;43m*\u001B[39;49m\u001B[43mkwargs\u001B[49m\u001B[43m)\u001B[49m\n\u001B[1;32m   2373\u001B[0m \u001B[38;5;28;01mfinally\u001B[39;00m:\n",
      "File \u001B[0;32m~/miniconda3/envs/juplab/lib/python3.10/site-packages/matplotlib/backend_bases.py:2232\u001B[0m, in \u001B[0;36mFigureCanvasBase._switch_canvas_and_return_print_method.<locals>.<lambda>\u001B[0;34m(*args, **kwargs)\u001B[0m\n\u001B[1;32m   2231\u001B[0m     skip \u001B[38;5;241m=\u001B[39m optional_kws \u001B[38;5;241m-\u001B[39m {\u001B[38;5;241m*\u001B[39minspect\u001B[38;5;241m.\u001B[39msignature(meth)\u001B[38;5;241m.\u001B[39mparameters}\n\u001B[0;32m-> 2232\u001B[0m     print_method \u001B[38;5;241m=\u001B[39m functools\u001B[38;5;241m.\u001B[39mwraps(meth)(\u001B[38;5;28;01mlambda\u001B[39;00m \u001B[38;5;241m*\u001B[39margs, \u001B[38;5;241m*\u001B[39m\u001B[38;5;241m*\u001B[39mkwargs: \u001B[43mmeth\u001B[49m\u001B[43m(\u001B[49m\n\u001B[1;32m   2233\u001B[0m \u001B[43m        \u001B[49m\u001B[38;5;241;43m*\u001B[39;49m\u001B[43margs\u001B[49m\u001B[43m,\u001B[49m\u001B[43m \u001B[49m\u001B[38;5;241;43m*\u001B[39;49m\u001B[38;5;241;43m*\u001B[39;49m\u001B[43m{\u001B[49m\u001B[43mk\u001B[49m\u001B[43m:\u001B[49m\u001B[43m \u001B[49m\u001B[43mv\u001B[49m\u001B[43m \u001B[49m\u001B[38;5;28;43;01mfor\u001B[39;49;00m\u001B[43m \u001B[49m\u001B[43mk\u001B[49m\u001B[43m,\u001B[49m\u001B[43m \u001B[49m\u001B[43mv\u001B[49m\u001B[43m \u001B[49m\u001B[38;5;129;43;01min\u001B[39;49;00m\u001B[43m \u001B[49m\u001B[43mkwargs\u001B[49m\u001B[38;5;241;43m.\u001B[39;49m\u001B[43mitems\u001B[49m\u001B[43m(\u001B[49m\u001B[43m)\u001B[49m\u001B[43m \u001B[49m\u001B[38;5;28;43;01mif\u001B[39;49;00m\u001B[43m \u001B[49m\u001B[43mk\u001B[49m\u001B[43m \u001B[49m\u001B[38;5;129;43;01mnot\u001B[39;49;00m\u001B[43m \u001B[49m\u001B[38;5;129;43;01min\u001B[39;49;00m\u001B[43m \u001B[49m\u001B[43mskip\u001B[49m\u001B[43m}\u001B[49m\u001B[43m)\u001B[49m)\n\u001B[1;32m   2234\u001B[0m \u001B[38;5;28;01melse\u001B[39;00m:  \u001B[38;5;66;03m# Let third-parties do as they see fit.\u001B[39;00m\n",
      "File \u001B[0;32m~/miniconda3/envs/juplab/lib/python3.10/site-packages/matplotlib/backends/backend_agg.py:445\u001B[0m, in \u001B[0;36mFigureCanvasAgg.print_raw\u001B[0;34m(self, filename_or_obj)\u001B[0m\n\u001B[1;32m    444\u001B[0m \u001B[38;5;28;01mdef\u001B[39;00m \u001B[38;5;21mprint_raw\u001B[39m(\u001B[38;5;28mself\u001B[39m, filename_or_obj):\n\u001B[0;32m--> 445\u001B[0m     \u001B[43mFigureCanvasAgg\u001B[49m\u001B[38;5;241;43m.\u001B[39;49m\u001B[43mdraw\u001B[49m\u001B[43m(\u001B[49m\u001B[38;5;28;43mself\u001B[39;49m\u001B[43m)\u001B[49m\n\u001B[1;32m    446\u001B[0m     renderer \u001B[38;5;241m=\u001B[39m \u001B[38;5;28mself\u001B[39m\u001B[38;5;241m.\u001B[39mget_renderer()\n",
      "File \u001B[0;32m~/miniconda3/envs/juplab/lib/python3.10/site-packages/matplotlib/backends/backend_agg.py:400\u001B[0m, in \u001B[0;36mFigureCanvasAgg.draw\u001B[0;34m(self)\u001B[0m\n\u001B[1;32m    397\u001B[0m \u001B[38;5;28;01mwith\u001B[39;00m RendererAgg\u001B[38;5;241m.\u001B[39mlock, \\\n\u001B[1;32m    398\u001B[0m      (\u001B[38;5;28mself\u001B[39m\u001B[38;5;241m.\u001B[39mtoolbar\u001B[38;5;241m.\u001B[39m_wait_cursor_for_draw_cm() \u001B[38;5;28;01mif\u001B[39;00m \u001B[38;5;28mself\u001B[39m\u001B[38;5;241m.\u001B[39mtoolbar\n\u001B[1;32m    399\u001B[0m       \u001B[38;5;28;01melse\u001B[39;00m nullcontext()):\n\u001B[0;32m--> 400\u001B[0m     \u001B[38;5;28;43mself\u001B[39;49m\u001B[38;5;241;43m.\u001B[39;49m\u001B[43mfigure\u001B[49m\u001B[38;5;241;43m.\u001B[39;49m\u001B[43mdraw\u001B[49m\u001B[43m(\u001B[49m\u001B[38;5;28;43mself\u001B[39;49m\u001B[38;5;241;43m.\u001B[39;49m\u001B[43mrenderer\u001B[49m\u001B[43m)\u001B[49m\n\u001B[1;32m    401\u001B[0m     \u001B[38;5;66;03m# A GUI class may be need to update a window using this draw, so\u001B[39;00m\n\u001B[1;32m    402\u001B[0m     \u001B[38;5;66;03m# don't forget to call the superclass.\u001B[39;00m\n",
      "File \u001B[0;32m~/miniconda3/envs/juplab/lib/python3.10/site-packages/matplotlib/artist.py:95\u001B[0m, in \u001B[0;36m_finalize_rasterization.<locals>.draw_wrapper\u001B[0;34m(artist, renderer, *args, **kwargs)\u001B[0m\n\u001B[1;32m     93\u001B[0m \u001B[38;5;129m@wraps\u001B[39m(draw)\n\u001B[1;32m     94\u001B[0m \u001B[38;5;28;01mdef\u001B[39;00m \u001B[38;5;21mdraw_wrapper\u001B[39m(artist, renderer, \u001B[38;5;241m*\u001B[39margs, \u001B[38;5;241m*\u001B[39m\u001B[38;5;241m*\u001B[39mkwargs):\n\u001B[0;32m---> 95\u001B[0m     result \u001B[38;5;241m=\u001B[39m \u001B[43mdraw\u001B[49m\u001B[43m(\u001B[49m\u001B[43martist\u001B[49m\u001B[43m,\u001B[49m\u001B[43m \u001B[49m\u001B[43mrenderer\u001B[49m\u001B[43m,\u001B[49m\u001B[43m \u001B[49m\u001B[38;5;241;43m*\u001B[39;49m\u001B[43margs\u001B[49m\u001B[43m,\u001B[49m\u001B[43m \u001B[49m\u001B[38;5;241;43m*\u001B[39;49m\u001B[38;5;241;43m*\u001B[39;49m\u001B[43mkwargs\u001B[49m\u001B[43m)\u001B[49m\n\u001B[1;32m     96\u001B[0m     \u001B[38;5;28;01mif\u001B[39;00m renderer\u001B[38;5;241m.\u001B[39m_rasterizing:\n",
      "File \u001B[0;32m~/miniconda3/envs/juplab/lib/python3.10/site-packages/matplotlib/artist.py:72\u001B[0m, in \u001B[0;36mallow_rasterization.<locals>.draw_wrapper\u001B[0;34m(artist, renderer)\u001B[0m\n\u001B[1;32m     70\u001B[0m         renderer\u001B[38;5;241m.\u001B[39mstart_filter()\n\u001B[0;32m---> 72\u001B[0m     \u001B[38;5;28;01mreturn\u001B[39;00m \u001B[43mdraw\u001B[49m\u001B[43m(\u001B[49m\u001B[43martist\u001B[49m\u001B[43m,\u001B[49m\u001B[43m \u001B[49m\u001B[43mrenderer\u001B[49m\u001B[43m)\u001B[49m\n\u001B[1;32m     73\u001B[0m \u001B[38;5;28;01mfinally\u001B[39;00m:\n",
      "File \u001B[0;32m~/miniconda3/envs/juplab/lib/python3.10/site-packages/matplotlib/figure.py:3140\u001B[0m, in \u001B[0;36mFigure.draw\u001B[0;34m(self, renderer)\u001B[0m\n\u001B[1;32m   3139\u001B[0m \u001B[38;5;28mself\u001B[39m\u001B[38;5;241m.\u001B[39mpatch\u001B[38;5;241m.\u001B[39mdraw(renderer)\n\u001B[0;32m-> 3140\u001B[0m \u001B[43mmimage\u001B[49m\u001B[38;5;241;43m.\u001B[39;49m\u001B[43m_draw_list_compositing_images\u001B[49m\u001B[43m(\u001B[49m\n\u001B[1;32m   3141\u001B[0m \u001B[43m    \u001B[49m\u001B[43mrenderer\u001B[49m\u001B[43m,\u001B[49m\u001B[43m \u001B[49m\u001B[38;5;28;43mself\u001B[39;49m\u001B[43m,\u001B[49m\u001B[43m \u001B[49m\u001B[43martists\u001B[49m\u001B[43m,\u001B[49m\u001B[43m \u001B[49m\u001B[38;5;28;43mself\u001B[39;49m\u001B[38;5;241;43m.\u001B[39;49m\u001B[43msuppressComposite\u001B[49m\u001B[43m)\u001B[49m\n\u001B[1;32m   3143\u001B[0m \u001B[38;5;28;01mfor\u001B[39;00m sfig \u001B[38;5;129;01min\u001B[39;00m \u001B[38;5;28mself\u001B[39m\u001B[38;5;241m.\u001B[39msubfigs:\n",
      "File \u001B[0;32m~/miniconda3/envs/juplab/lib/python3.10/site-packages/matplotlib/image.py:131\u001B[0m, in \u001B[0;36m_draw_list_compositing_images\u001B[0;34m(renderer, parent, artists, suppress_composite)\u001B[0m\n\u001B[1;32m    130\u001B[0m     \u001B[38;5;28;01mfor\u001B[39;00m a \u001B[38;5;129;01min\u001B[39;00m artists:\n\u001B[0;32m--> 131\u001B[0m         \u001B[43ma\u001B[49m\u001B[38;5;241;43m.\u001B[39;49m\u001B[43mdraw\u001B[49m\u001B[43m(\u001B[49m\u001B[43mrenderer\u001B[49m\u001B[43m)\u001B[49m\n\u001B[1;32m    132\u001B[0m \u001B[38;5;28;01melse\u001B[39;00m:\n\u001B[1;32m    133\u001B[0m     \u001B[38;5;66;03m# Composite any adjacent images together\u001B[39;00m\n",
      "File \u001B[0;32m~/miniconda3/envs/juplab/lib/python3.10/site-packages/matplotlib/artist.py:72\u001B[0m, in \u001B[0;36mallow_rasterization.<locals>.draw_wrapper\u001B[0;34m(artist, renderer)\u001B[0m\n\u001B[1;32m     70\u001B[0m         renderer\u001B[38;5;241m.\u001B[39mstart_filter()\n\u001B[0;32m---> 72\u001B[0m     \u001B[38;5;28;01mreturn\u001B[39;00m \u001B[43mdraw\u001B[49m\u001B[43m(\u001B[49m\u001B[43martist\u001B[49m\u001B[43m,\u001B[49m\u001B[43m \u001B[49m\u001B[43mrenderer\u001B[49m\u001B[43m)\u001B[49m\n\u001B[1;32m     73\u001B[0m \u001B[38;5;28;01mfinally\u001B[39;00m:\n",
      "File \u001B[0;32m~/miniconda3/envs/juplab/lib/python3.10/site-packages/matplotlib/axes/_base.py:3064\u001B[0m, in \u001B[0;36m_AxesBase.draw\u001B[0;34m(self, renderer)\u001B[0m\n\u001B[1;32m   3062\u001B[0m     _draw_rasterized(\u001B[38;5;28mself\u001B[39m\u001B[38;5;241m.\u001B[39mfigure, artists_rasterized, renderer)\n\u001B[0;32m-> 3064\u001B[0m \u001B[43mmimage\u001B[49m\u001B[38;5;241;43m.\u001B[39;49m\u001B[43m_draw_list_compositing_images\u001B[49m\u001B[43m(\u001B[49m\n\u001B[1;32m   3065\u001B[0m \u001B[43m    \u001B[49m\u001B[43mrenderer\u001B[49m\u001B[43m,\u001B[49m\u001B[43m \u001B[49m\u001B[38;5;28;43mself\u001B[39;49m\u001B[43m,\u001B[49m\u001B[43m \u001B[49m\u001B[43martists\u001B[49m\u001B[43m,\u001B[49m\u001B[43m \u001B[49m\u001B[38;5;28;43mself\u001B[39;49m\u001B[38;5;241;43m.\u001B[39;49m\u001B[43mfigure\u001B[49m\u001B[38;5;241;43m.\u001B[39;49m\u001B[43msuppressComposite\u001B[49m\u001B[43m)\u001B[49m\n\u001B[1;32m   3067\u001B[0m renderer\u001B[38;5;241m.\u001B[39mclose_group(\u001B[38;5;124m'\u001B[39m\u001B[38;5;124maxes\u001B[39m\u001B[38;5;124m'\u001B[39m)\n",
      "File \u001B[0;32m~/miniconda3/envs/juplab/lib/python3.10/site-packages/matplotlib/image.py:131\u001B[0m, in \u001B[0;36m_draw_list_compositing_images\u001B[0;34m(renderer, parent, artists, suppress_composite)\u001B[0m\n\u001B[1;32m    130\u001B[0m     \u001B[38;5;28;01mfor\u001B[39;00m a \u001B[38;5;129;01min\u001B[39;00m artists:\n\u001B[0;32m--> 131\u001B[0m         \u001B[43ma\u001B[49m\u001B[38;5;241;43m.\u001B[39;49m\u001B[43mdraw\u001B[49m\u001B[43m(\u001B[49m\u001B[43mrenderer\u001B[49m\u001B[43m)\u001B[49m\n\u001B[1;32m    132\u001B[0m \u001B[38;5;28;01melse\u001B[39;00m:\n\u001B[1;32m    133\u001B[0m     \u001B[38;5;66;03m# Composite any adjacent images together\u001B[39;00m\n",
      "File \u001B[0;32m~/miniconda3/envs/juplab/lib/python3.10/site-packages/matplotlib/artist.py:72\u001B[0m, in \u001B[0;36mallow_rasterization.<locals>.draw_wrapper\u001B[0;34m(artist, renderer)\u001B[0m\n\u001B[1;32m     70\u001B[0m         renderer\u001B[38;5;241m.\u001B[39mstart_filter()\n\u001B[0;32m---> 72\u001B[0m     \u001B[38;5;28;01mreturn\u001B[39;00m \u001B[43mdraw\u001B[49m\u001B[43m(\u001B[49m\u001B[43martist\u001B[49m\u001B[43m,\u001B[49m\u001B[43m \u001B[49m\u001B[43mrenderer\u001B[49m\u001B[43m)\u001B[49m\n\u001B[1;32m     73\u001B[0m \u001B[38;5;28;01mfinally\u001B[39;00m:\n",
      "File \u001B[0;32m~/miniconda3/envs/juplab/lib/python3.10/site-packages/matplotlib/lines.py:759\u001B[0m, in \u001B[0;36mLine2D.draw\u001B[0;34m(self, renderer)\u001B[0m\n\u001B[1;32m    758\u001B[0m gc \u001B[38;5;241m=\u001B[39m renderer\u001B[38;5;241m.\u001B[39mnew_gc()\n\u001B[0;32m--> 759\u001B[0m \u001B[38;5;28;43mself\u001B[39;49m\u001B[38;5;241;43m.\u001B[39;49m\u001B[43m_set_gc_clip\u001B[49m\u001B[43m(\u001B[49m\u001B[43mgc\u001B[49m\u001B[43m)\u001B[49m\n\u001B[1;32m    760\u001B[0m gc\u001B[38;5;241m.\u001B[39mset_url(\u001B[38;5;28mself\u001B[39m\u001B[38;5;241m.\u001B[39mget_url())\n",
      "File \u001B[0;32m~/miniconda3/envs/juplab/lib/python3.10/site-packages/matplotlib/artist.py:929\u001B[0m, in \u001B[0;36mArtist._set_gc_clip\u001B[0;34m(self, gc)\u001B[0m\n\u001B[1;32m    927\u001B[0m     \u001B[38;5;28mself\u001B[39m\u001B[38;5;241m.\u001B[39mstale \u001B[38;5;241m=\u001B[39m \u001B[38;5;28;01mTrue\u001B[39;00m\n\u001B[0;32m--> 929\u001B[0m \u001B[38;5;28;01mdef\u001B[39;00m \u001B[38;5;21m_set_gc_clip\u001B[39m(\u001B[38;5;28mself\u001B[39m, gc):\n\u001B[1;32m    930\u001B[0m \u001B[38;5;250m    \u001B[39m\u001B[38;5;124;03m\"\"\"Set the clip properly for the gc.\"\"\"\u001B[39;00m\n",
      "\u001B[0;31mKeyboardInterrupt\u001B[0m: ",
      "\nDuring handling of the above exception, another exception occurred:\n",
      "\u001B[0;31mKeyboardInterrupt\u001B[0m                         Traceback (most recent call last)",
      "Cell \u001B[0;32mIn[318], line 42\u001B[0m\n\u001B[1;32m     36\u001B[0m ani \u001B[38;5;241m=\u001B[39m FuncAnimation(fig, update, frames\u001B[38;5;241m=\u001B[39m\u001B[38;5;28mlen\u001B[39m(x1), blit\u001B[38;5;241m=\u001B[39m\u001B[38;5;28;01mTrue\u001B[39;00m, interval\u001B[38;5;241m=\u001B[39m\u001B[38;5;241m1e-9\u001B[39m)\n\u001B[1;32m     37\u001B[0m \u001B[38;5;66;03m# Writer = animation.writers['ffmpeg']\u001B[39;00m\n\u001B[1;32m     38\u001B[0m \u001B[38;5;66;03m# writer = Writer(fps=90, metadata=dict(artist='Me'), bitrate=18000, extra_args=['-pix_fmt', 'yuv420p', '-s', '1920x1080'])  # 4K-Auflösung\u001B[39;00m\n\u001B[1;32m     39\u001B[0m \u001B[38;5;66;03m# \u001B[39;00m\n\u001B[1;32m     40\u001B[0m \u001B[38;5;66;03m# # Speichern der Animation\u001B[39;00m\n\u001B[1;32m     41\u001B[0m \u001B[38;5;66;03m# ani.save('test_export2.mp4', writer=writer)\u001B[39;00m\n\u001B[0;32m---> 42\u001B[0m \u001B[43mani\u001B[49m\u001B[38;5;241;43m.\u001B[39;49m\u001B[43msave\u001B[49m\u001B[43m(\u001B[49m\u001B[38;5;124;43m'\u001B[39;49m\u001B[38;5;124;43mtest_gif.gif\u001B[39;49m\u001B[38;5;124;43m'\u001B[39;49m\u001B[43m,\u001B[49m\u001B[43m \u001B[49m\u001B[43mwriter\u001B[49m\u001B[38;5;241;43m=\u001B[39;49m\u001B[38;5;124;43m'\u001B[39;49m\u001B[38;5;124;43mpillow\u001B[39;49m\u001B[38;5;124;43m'\u001B[39;49m\u001B[43m,\u001B[49m\u001B[43m \u001B[49m\u001B[43mfps\u001B[49m\u001B[38;5;241;43m=\u001B[39;49m\u001B[38;5;241;43m100\u001B[39;49m\u001B[43m)\u001B[49m\n",
      "File \u001B[0;32m~/miniconda3/envs/juplab/lib/python3.10/site-packages/matplotlib/animation.py:1085\u001B[0m, in \u001B[0;36mAnimation.save\u001B[0;34m(self, filename, writer, fps, dpi, codec, bitrate, extra_args, metadata, extra_anim, savefig_kwargs, progress_callback)\u001B[0m\n\u001B[1;32m   1081\u001B[0m savefig_kwargs[\u001B[38;5;124m'\u001B[39m\u001B[38;5;124mtransparent\u001B[39m\u001B[38;5;124m'\u001B[39m] \u001B[38;5;241m=\u001B[39m \u001B[38;5;28;01mFalse\u001B[39;00m   \u001B[38;5;66;03m# just to be safe!\u001B[39;00m\n\u001B[1;32m   1082\u001B[0m \u001B[38;5;66;03m# canvas._is_saving = True makes the draw_event animation-starting\u001B[39;00m\n\u001B[1;32m   1083\u001B[0m \u001B[38;5;66;03m# callback a no-op; canvas.manager = None prevents resizing the GUI\u001B[39;00m\n\u001B[1;32m   1084\u001B[0m \u001B[38;5;66;03m# widget (both are likewise done in savefig()).\u001B[39;00m\n\u001B[0;32m-> 1085\u001B[0m \u001B[38;5;28;01mwith\u001B[39;00m mpl\u001B[38;5;241m.\u001B[39mrc_context({\u001B[38;5;124m'\u001B[39m\u001B[38;5;124msavefig.bbox\u001B[39m\u001B[38;5;124m'\u001B[39m: \u001B[38;5;28;01mNone\u001B[39;00m}), \\\n\u001B[1;32m   1086\u001B[0m      writer\u001B[38;5;241m.\u001B[39msaving(\u001B[38;5;28mself\u001B[39m\u001B[38;5;241m.\u001B[39m_fig, filename, dpi), \\\n\u001B[1;32m   1087\u001B[0m      cbook\u001B[38;5;241m.\u001B[39m_setattr_cm(\u001B[38;5;28mself\u001B[39m\u001B[38;5;241m.\u001B[39m_fig\u001B[38;5;241m.\u001B[39mcanvas,\n\u001B[1;32m   1088\u001B[0m                        _is_saving\u001B[38;5;241m=\u001B[39m\u001B[38;5;28;01mTrue\u001B[39;00m, manager\u001B[38;5;241m=\u001B[39m\u001B[38;5;28;01mNone\u001B[39;00m):\n\u001B[1;32m   1089\u001B[0m     \u001B[38;5;28;01mfor\u001B[39;00m anim \u001B[38;5;129;01min\u001B[39;00m all_anim:\n\u001B[1;32m   1090\u001B[0m         anim\u001B[38;5;241m.\u001B[39m_init_draw()  \u001B[38;5;66;03m# Clear the initial frame\u001B[39;00m\n",
      "File \u001B[0;32m~/miniconda3/envs/juplab/lib/python3.10/contextlib.py:153\u001B[0m, in \u001B[0;36m_GeneratorContextManager.__exit__\u001B[0;34m(self, typ, value, traceback)\u001B[0m\n\u001B[1;32m    151\u001B[0m     value \u001B[38;5;241m=\u001B[39m typ()\n\u001B[1;32m    152\u001B[0m \u001B[38;5;28;01mtry\u001B[39;00m:\n\u001B[0;32m--> 153\u001B[0m     \u001B[38;5;28;43mself\u001B[39;49m\u001B[38;5;241;43m.\u001B[39;49m\u001B[43mgen\u001B[49m\u001B[38;5;241;43m.\u001B[39;49m\u001B[43mthrow\u001B[49m\u001B[43m(\u001B[49m\u001B[43mtyp\u001B[49m\u001B[43m,\u001B[49m\u001B[43m \u001B[49m\u001B[43mvalue\u001B[49m\u001B[43m,\u001B[49m\u001B[43m \u001B[49m\u001B[43mtraceback\u001B[49m\u001B[43m)\u001B[49m\n\u001B[1;32m    154\u001B[0m \u001B[38;5;28;01mexcept\u001B[39;00m \u001B[38;5;167;01mStopIteration\u001B[39;00m \u001B[38;5;28;01mas\u001B[39;00m exc:\n\u001B[1;32m    155\u001B[0m     \u001B[38;5;66;03m# Suppress StopIteration *unless* it's the same exception that\u001B[39;00m\n\u001B[1;32m    156\u001B[0m     \u001B[38;5;66;03m# was passed to throw().  This prevents a StopIteration\u001B[39;00m\n\u001B[1;32m    157\u001B[0m     \u001B[38;5;66;03m# raised inside the \"with\" statement from being suppressed.\u001B[39;00m\n\u001B[1;32m    158\u001B[0m     \u001B[38;5;28;01mreturn\u001B[39;00m exc \u001B[38;5;129;01mis\u001B[39;00m \u001B[38;5;129;01mnot\u001B[39;00m value\n",
      "File \u001B[0;32m~/miniconda3/envs/juplab/lib/python3.10/site-packages/matplotlib/animation.py:235\u001B[0m, in \u001B[0;36mAbstractMovieWriter.saving\u001B[0;34m(self, fig, outfile, dpi, *args, **kwargs)\u001B[0m\n\u001B[1;32m    233\u001B[0m     \u001B[38;5;28;01myield\u001B[39;00m \u001B[38;5;28mself\u001B[39m\n\u001B[1;32m    234\u001B[0m \u001B[38;5;28;01mfinally\u001B[39;00m:\n\u001B[0;32m--> 235\u001B[0m     \u001B[38;5;28;43mself\u001B[39;49m\u001B[38;5;241;43m.\u001B[39;49m\u001B[43mfinish\u001B[49m\u001B[43m(\u001B[49m\u001B[43m)\u001B[49m\n",
      "File \u001B[0;32m~/miniconda3/envs/juplab/lib/python3.10/site-packages/matplotlib/animation.py:501\u001B[0m, in \u001B[0;36mPillowWriter.finish\u001B[0;34m(self)\u001B[0m\n\u001B[1;32m    500\u001B[0m \u001B[38;5;28;01mdef\u001B[39;00m \u001B[38;5;21mfinish\u001B[39m(\u001B[38;5;28mself\u001B[39m):\n\u001B[0;32m--> 501\u001B[0m     \u001B[38;5;28;43mself\u001B[39;49m\u001B[38;5;241;43m.\u001B[39;49m\u001B[43m_frames\u001B[49m\u001B[43m[\u001B[49m\u001B[38;5;241;43m0\u001B[39;49m\u001B[43m]\u001B[49m\u001B[38;5;241;43m.\u001B[39;49m\u001B[43msave\u001B[49m\u001B[43m(\u001B[49m\n\u001B[1;32m    502\u001B[0m \u001B[43m        \u001B[49m\u001B[38;5;28;43mself\u001B[39;49m\u001B[38;5;241;43m.\u001B[39;49m\u001B[43moutfile\u001B[49m\u001B[43m,\u001B[49m\u001B[43m \u001B[49m\u001B[43msave_all\u001B[49m\u001B[38;5;241;43m=\u001B[39;49m\u001B[38;5;28;43;01mTrue\u001B[39;49;00m\u001B[43m,\u001B[49m\u001B[43m \u001B[49m\u001B[43mappend_images\u001B[49m\u001B[38;5;241;43m=\u001B[39;49m\u001B[38;5;28;43mself\u001B[39;49m\u001B[38;5;241;43m.\u001B[39;49m\u001B[43m_frames\u001B[49m\u001B[43m[\u001B[49m\u001B[38;5;241;43m1\u001B[39;49m\u001B[43m:\u001B[49m\u001B[43m]\u001B[49m\u001B[43m,\u001B[49m\n\u001B[1;32m    503\u001B[0m \u001B[43m        \u001B[49m\u001B[43mduration\u001B[49m\u001B[38;5;241;43m=\u001B[39;49m\u001B[38;5;28;43mint\u001B[39;49m\u001B[43m(\u001B[49m\u001B[38;5;241;43m1000\u001B[39;49m\u001B[43m \u001B[49m\u001B[38;5;241;43m/\u001B[39;49m\u001B[43m \u001B[49m\u001B[38;5;28;43mself\u001B[39;49m\u001B[38;5;241;43m.\u001B[39;49m\u001B[43mfps\u001B[49m\u001B[43m)\u001B[49m\u001B[43m,\u001B[49m\u001B[43m \u001B[49m\u001B[43mloop\u001B[49m\u001B[38;5;241;43m=\u001B[39;49m\u001B[38;5;241;43m0\u001B[39;49m\u001B[43m)\u001B[49m\n",
      "File \u001B[0;32m~/miniconda3/envs/juplab/lib/python3.10/site-packages/PIL/Image.py:2432\u001B[0m, in \u001B[0;36mImage.save\u001B[0;34m(self, fp, format, **params)\u001B[0m\n\u001B[1;32m   2429\u001B[0m         fp \u001B[38;5;241m=\u001B[39m builtins\u001B[38;5;241m.\u001B[39mopen(filename, \u001B[38;5;124m\"\u001B[39m\u001B[38;5;124mw+b\u001B[39m\u001B[38;5;124m\"\u001B[39m)\n\u001B[1;32m   2431\u001B[0m \u001B[38;5;28;01mtry\u001B[39;00m:\n\u001B[0;32m-> 2432\u001B[0m     \u001B[43msave_handler\u001B[49m\u001B[43m(\u001B[49m\u001B[38;5;28;43mself\u001B[39;49m\u001B[43m,\u001B[49m\u001B[43m \u001B[49m\u001B[43mfp\u001B[49m\u001B[43m,\u001B[49m\u001B[43m \u001B[49m\u001B[43mfilename\u001B[49m\u001B[43m)\u001B[49m\n\u001B[1;32m   2433\u001B[0m \u001B[38;5;28;01mexcept\u001B[39;00m \u001B[38;5;167;01mException\u001B[39;00m:\n\u001B[1;32m   2434\u001B[0m     \u001B[38;5;28;01mif\u001B[39;00m open_fp:\n",
      "File \u001B[0;32m~/miniconda3/envs/juplab/lib/python3.10/site-packages/PIL/GifImagePlugin.py:653\u001B[0m, in \u001B[0;36m_save_all\u001B[0;34m(im, fp, filename)\u001B[0m\n\u001B[1;32m    652\u001B[0m \u001B[38;5;28;01mdef\u001B[39;00m \u001B[38;5;21m_save_all\u001B[39m(im, fp, filename):\n\u001B[0;32m--> 653\u001B[0m     \u001B[43m_save\u001B[49m\u001B[43m(\u001B[49m\u001B[43mim\u001B[49m\u001B[43m,\u001B[49m\u001B[43m \u001B[49m\u001B[43mfp\u001B[49m\u001B[43m,\u001B[49m\u001B[43m \u001B[49m\u001B[43mfilename\u001B[49m\u001B[43m,\u001B[49m\u001B[43m \u001B[49m\u001B[43msave_all\u001B[49m\u001B[38;5;241;43m=\u001B[39;49m\u001B[38;5;28;43;01mTrue\u001B[39;49;00m\u001B[43m)\u001B[49m\n",
      "File \u001B[0;32m~/miniconda3/envs/juplab/lib/python3.10/site-packages/PIL/GifImagePlugin.py:664\u001B[0m, in \u001B[0;36m_save\u001B[0;34m(im, fp, filename, save_all)\u001B[0m\n\u001B[1;32m    661\u001B[0m     palette \u001B[38;5;241m=\u001B[39m \u001B[38;5;28;01mNone\u001B[39;00m\n\u001B[1;32m    662\u001B[0m     im\u001B[38;5;241m.\u001B[39mencoderinfo[\u001B[38;5;124m\"\u001B[39m\u001B[38;5;124moptimize\u001B[39m\u001B[38;5;124m\"\u001B[39m] \u001B[38;5;241m=\u001B[39m im\u001B[38;5;241m.\u001B[39mencoderinfo\u001B[38;5;241m.\u001B[39mget(\u001B[38;5;124m\"\u001B[39m\u001B[38;5;124moptimize\u001B[39m\u001B[38;5;124m\"\u001B[39m, \u001B[38;5;28;01mTrue\u001B[39;00m)\n\u001B[0;32m--> 664\u001B[0m \u001B[38;5;28;01mif\u001B[39;00m \u001B[38;5;129;01mnot\u001B[39;00m save_all \u001B[38;5;129;01mor\u001B[39;00m \u001B[38;5;129;01mnot\u001B[39;00m \u001B[43m_write_multiple_frames\u001B[49m\u001B[43m(\u001B[49m\u001B[43mim\u001B[49m\u001B[43m,\u001B[49m\u001B[43m \u001B[49m\u001B[43mfp\u001B[49m\u001B[43m,\u001B[49m\u001B[43m \u001B[49m\u001B[43mpalette\u001B[49m\u001B[43m)\u001B[49m:\n\u001B[1;32m    665\u001B[0m     _write_single_frame(im, fp, palette)\n\u001B[1;32m    667\u001B[0m fp\u001B[38;5;241m.\u001B[39mwrite(\u001B[38;5;124mb\u001B[39m\u001B[38;5;124m\"\u001B[39m\u001B[38;5;124m;\u001B[39m\u001B[38;5;124m\"\u001B[39m)  \u001B[38;5;66;03m# end of file\u001B[39;00m\n",
      "File \u001B[0;32m~/miniconda3/envs/juplab/lib/python3.10/site-packages/PIL/GifImagePlugin.py:587\u001B[0m, in \u001B[0;36m_write_multiple_frames\u001B[0;34m(im, fp, palette)\u001B[0m\n\u001B[1;32m    584\u001B[0m \u001B[38;5;28;01mfor\u001B[39;00m imSequence \u001B[38;5;129;01min\u001B[39;00m itertools\u001B[38;5;241m.\u001B[39mchain([im], im\u001B[38;5;241m.\u001B[39mencoderinfo\u001B[38;5;241m.\u001B[39mget(\u001B[38;5;124m\"\u001B[39m\u001B[38;5;124mappend_images\u001B[39m\u001B[38;5;124m\"\u001B[39m, [])):\n\u001B[1;32m    585\u001B[0m     \u001B[38;5;28;01mfor\u001B[39;00m im_frame \u001B[38;5;129;01min\u001B[39;00m ImageSequence\u001B[38;5;241m.\u001B[39mIterator(imSequence):\n\u001B[1;32m    586\u001B[0m         \u001B[38;5;66;03m# a copy is required here since seek can still mutate the image\u001B[39;00m\n\u001B[0;32m--> 587\u001B[0m         im_frame \u001B[38;5;241m=\u001B[39m \u001B[43m_normalize_mode\u001B[49m\u001B[43m(\u001B[49m\u001B[43mim_frame\u001B[49m\u001B[38;5;241;43m.\u001B[39;49m\u001B[43mcopy\u001B[49m\u001B[43m(\u001B[49m\u001B[43m)\u001B[49m\u001B[43m)\u001B[49m\n\u001B[1;32m    588\u001B[0m         \u001B[38;5;28;01mif\u001B[39;00m frame_count \u001B[38;5;241m==\u001B[39m \u001B[38;5;241m0\u001B[39m:\n\u001B[1;32m    589\u001B[0m             \u001B[38;5;28;01mfor\u001B[39;00m k, v \u001B[38;5;129;01min\u001B[39;00m im_frame\u001B[38;5;241m.\u001B[39minfo\u001B[38;5;241m.\u001B[39mitems():\n",
      "File \u001B[0;32m~/miniconda3/envs/juplab/lib/python3.10/site-packages/PIL/GifImagePlugin.py:484\u001B[0m, in \u001B[0;36m_normalize_mode\u001B[0;34m(im)\u001B[0m\n\u001B[1;32m    482\u001B[0m     \u001B[38;5;28;01mreturn\u001B[39;00m im\n\u001B[1;32m    483\u001B[0m \u001B[38;5;28;01mif\u001B[39;00m Image\u001B[38;5;241m.\u001B[39mgetmodebase(im\u001B[38;5;241m.\u001B[39mmode) \u001B[38;5;241m==\u001B[39m \u001B[38;5;124m\"\u001B[39m\u001B[38;5;124mRGB\u001B[39m\u001B[38;5;124m\"\u001B[39m:\n\u001B[0;32m--> 484\u001B[0m     im \u001B[38;5;241m=\u001B[39m \u001B[43mim\u001B[49m\u001B[38;5;241;43m.\u001B[39;49m\u001B[43mconvert\u001B[49m\u001B[43m(\u001B[49m\u001B[38;5;124;43m\"\u001B[39;49m\u001B[38;5;124;43mP\u001B[39;49m\u001B[38;5;124;43m\"\u001B[39;49m\u001B[43m,\u001B[49m\u001B[43m \u001B[49m\u001B[43mpalette\u001B[49m\u001B[38;5;241;43m=\u001B[39;49m\u001B[43mImage\u001B[49m\u001B[38;5;241;43m.\u001B[39;49m\u001B[43mPalette\u001B[49m\u001B[38;5;241;43m.\u001B[39;49m\u001B[43mADAPTIVE\u001B[49m\u001B[43m)\u001B[49m\n\u001B[1;32m    485\u001B[0m     \u001B[38;5;28;01mif\u001B[39;00m im\u001B[38;5;241m.\u001B[39mpalette\u001B[38;5;241m.\u001B[39mmode \u001B[38;5;241m==\u001B[39m \u001B[38;5;124m\"\u001B[39m\u001B[38;5;124mRGBA\u001B[39m\u001B[38;5;124m\"\u001B[39m:\n\u001B[1;32m    486\u001B[0m         \u001B[38;5;28;01mfor\u001B[39;00m rgba \u001B[38;5;129;01min\u001B[39;00m im\u001B[38;5;241m.\u001B[39mpalette\u001B[38;5;241m.\u001B[39mcolors:\n",
      "File \u001B[0;32m~/miniconda3/envs/juplab/lib/python3.10/site-packages/PIL/Image.py:972\u001B[0m, in \u001B[0;36mImage.convert\u001B[0;34m(self, mode, matrix, dither, palette, colors)\u001B[0m\n\u001B[1;32m    969\u001B[0m     \u001B[38;5;28;01mreturn\u001B[39;00m new\n\u001B[1;32m    971\u001B[0m \u001B[38;5;28;01mif\u001B[39;00m mode \u001B[38;5;241m==\u001B[39m \u001B[38;5;124m\"\u001B[39m\u001B[38;5;124mP\u001B[39m\u001B[38;5;124m\"\u001B[39m \u001B[38;5;129;01mand\u001B[39;00m \u001B[38;5;28mself\u001B[39m\u001B[38;5;241m.\u001B[39mmode \u001B[38;5;241m==\u001B[39m \u001B[38;5;124m\"\u001B[39m\u001B[38;5;124mRGBA\u001B[39m\u001B[38;5;124m\"\u001B[39m:\n\u001B[0;32m--> 972\u001B[0m     \u001B[38;5;28;01mreturn\u001B[39;00m \u001B[38;5;28;43mself\u001B[39;49m\u001B[38;5;241;43m.\u001B[39;49m\u001B[43mquantize\u001B[49m\u001B[43m(\u001B[49m\u001B[43mcolors\u001B[49m\u001B[43m)\u001B[49m\n\u001B[1;32m    974\u001B[0m trns \u001B[38;5;241m=\u001B[39m \u001B[38;5;28;01mNone\u001B[39;00m\n\u001B[1;32m    975\u001B[0m delete_trns \u001B[38;5;241m=\u001B[39m \u001B[38;5;28;01mFalse\u001B[39;00m\n",
      "File \u001B[0;32m~/miniconda3/envs/juplab/lib/python3.10/site-packages/PIL/Image.py:1183\u001B[0m, in \u001B[0;36mImage.quantize\u001B[0;34m(self, colors, method, kmeans, palette, dither)\u001B[0m\n\u001B[1;32m   1180\u001B[0m     new_im\u001B[38;5;241m.\u001B[39mpalette \u001B[38;5;241m=\u001B[39m palette\u001B[38;5;241m.\u001B[39mpalette\u001B[38;5;241m.\u001B[39mcopy()\n\u001B[1;32m   1181\u001B[0m     \u001B[38;5;28;01mreturn\u001B[39;00m new_im\n\u001B[0;32m-> 1183\u001B[0m im \u001B[38;5;241m=\u001B[39m \u001B[38;5;28mself\u001B[39m\u001B[38;5;241m.\u001B[39m_new(\u001B[38;5;28;43mself\u001B[39;49m\u001B[38;5;241;43m.\u001B[39;49m\u001B[43mim\u001B[49m\u001B[38;5;241;43m.\u001B[39;49m\u001B[43mquantize\u001B[49m\u001B[43m(\u001B[49m\u001B[43mcolors\u001B[49m\u001B[43m,\u001B[49m\u001B[43m \u001B[49m\u001B[43mmethod\u001B[49m\u001B[43m,\u001B[49m\u001B[43m \u001B[49m\u001B[43mkmeans\u001B[49m\u001B[43m)\u001B[49m)\n\u001B[1;32m   1185\u001B[0m \u001B[38;5;28;01mfrom\u001B[39;00m \u001B[38;5;21;01m.\u001B[39;00m \u001B[38;5;28;01mimport\u001B[39;00m ImagePalette\n\u001B[1;32m   1187\u001B[0m mode \u001B[38;5;241m=\u001B[39m im\u001B[38;5;241m.\u001B[39mim\u001B[38;5;241m.\u001B[39mgetpalettemode()\n",
      "\u001B[0;31mKeyboardInterrupt\u001B[0m: "
     ]
    }
   ],
   "source": [
    "def update(frame):\n",
    "    point1.set_data(x1[frame], y1[frame])    \n",
    "    point2.set_data(x2[frame], y2[frame])\n",
    "    point3.set_data(x3[frame], y3[frame])\n",
    "    trajectory1.set_data(x1[:frame], y1[:frame], frame)\n",
    "    trajectory2.set_data(x2[:frame], y2[:frame], frame)\n",
    "    trajectory3.set_data(x3[:frame], y3[:frame], frame)\n",
    "    artists = (point1.get_artists() +\n",
    "               point2.get_artists() +\n",
    "               point3.get_artists() +\n",
    "               trajectory1.get_artists()+\n",
    "               trajectory2.get_artists() +\n",
    "               trajectory3.get_artists())\n",
    "    return artists\n",
    "\n",
    "dpi = 200\n",
    "width, height = 1920 / dpi, 1080 / dpi\n",
    "fig, ax = plt.subplots(figsize=(width, height), dpi=dpi)\n",
    "\n",
    "ax.set_xlim(-2, 2)\n",
    "ax.set_ylim(-2, 2)\n",
    "ax.grid(False)\n",
    "ax.axis('off')\n",
    "fig.patch.set_facecolor('black')\n",
    "\n",
    "datarange = 1000  # Anzahl der Punkte, die in der Spur sichtbar sind\n",
    "color_decay = 1\n",
    "\n",
    "point1 = HaloPoint(ax, 1, .6, color1='dodgerblue')\n",
    "point2 = HaloPoint(ax, 1, .6, color1='darkorange')\n",
    "point3 = HaloPoint(ax, 1, .6, color1='yellow')\n",
    "trajectory1 = Trajectory(ax, size_main=1, size_side=1.5, datarange=datarange, color_decay=color_decay, color='dodgerblue', edgecolor='blue', decay_white=10)\n",
    "trajectory2 = Trajectory(ax, size_main=1, size_side=1.5, datarange=datarange, color_decay=color_decay, color='darkorange', edgecolor='orangered', decay_white=10)\n",
    "trajectory3 = Trajectory(ax, size_main=1, size_side=1.5, datarange=datarange, color_decay=color_decay, color='yellow', edgecolor='gold', decay_white=10)\n",
    "\n",
    "ani = FuncAnimation(fig, update, frames=len(x1), blit=True, interval=1e-9)\n",
    "# Writer = animation.writers['ffmpeg']\n",
    "# writer = Writer(fps=90, metadata=dict(artist='Me'), bitrate=18000, extra_args=['-pix_fmt', 'yuv420p', '-s', '1920x1080'])  # 4K-Auflösung\n",
    "# \n",
    "# # Speichern der Animation\n",
    "# ani.save('test_export2.mp4', writer=writer)\n",
    "# ani.save('test_gif.gif', writer='pillow', fps=100)"
   ],
   "metadata": {
    "collapsed": false,
    "ExecuteTime": {
     "end_time": "2023-10-30T09:52:23.085317Z",
     "start_time": "2023-10-30T09:46:46.873316Z"
    }
   },
   "id": "320d884e5ce223"
  }
 ],
 "metadata": {
  "kernelspec": {
   "display_name": "Python 3",
   "language": "python",
   "name": "python3"
  },
  "language_info": {
   "codemirror_mode": {
    "name": "ipython",
    "version": 2
   },
   "file_extension": ".py",
   "mimetype": "text/x-python",
   "name": "python",
   "nbconvert_exporter": "python",
   "pygments_lexer": "ipython2",
   "version": "2.7.6"
  }
 },
 "nbformat": 4,
 "nbformat_minor": 5
}
