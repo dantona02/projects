{
 "cells": [
  {
   "cell_type": "code",
   "execution_count": 58,
   "id": "initial_id",
   "metadata": {
    "collapsed": true,
    "ExecuteTime": {
     "end_time": "2023-10-27T11:34:21.818051Z",
     "start_time": "2023-10-27T11:34:21.738084Z"
    }
   },
   "outputs": [],
   "source": [
    "import sympy as sp\n",
    "import numpy as np\n",
    "import matplotlib.pyplot as plt\n",
    "from matplotlib.ticker import AutoMinorLocator\n",
    "\n",
    "from sympy.physics.quantum.constants import hbar\n",
    "from sympy import pi, symbols, integrate, oo, Sum, simplify, sinh"
   ]
  },
  {
   "cell_type": "markdown",
   "source": [
    "## 1.2 Boltzmann Modell"
   ],
   "metadata": {
    "collapsed": false
   },
   "id": "cdf8ed57a73dec77"
  },
  {
   "cell_type": "markdown",
   "source": [
    "Klassische Hamilton-Funktion des Oszillators:\n",
    "\\begin{equation}\n",
    "H(\\boldsymbol{p}, \\boldsymbol{x})=\\frac{\\boldsymbol{p}^2}{2 m}+\\frac{K}{2} \\boldsymbol{x}^2=E\n",
    "\\end{equation}\n",
    "$p$ und $x$ sind die dreidimsonionalen Vektoren des Impulses und der Auslenkung bezüglich des Ursprungs.\n",
    "\n",
    "Kanonische Zustandssumme $Z_K$ mit Temperatur $T$ und der Kältefunktion $\\beta=\\frac{1}{k_B T}$ ergibt sich zu:\n",
    "\\begin{equation}\n",
    "Z_k=\\int \\frac{\\boldsymbol{d p}}{(2 \\pi \\hbar)^3} \\int \\boldsymbol{d x} e^{-\\beta H(p, x)}\n",
    "\\end{equation}"
   ],
   "metadata": {
    "collapsed": false
   },
   "id": "6ccef9d2201f9e21"
  },
  {
   "cell_type": "code",
   "execution_count": 59,
   "outputs": [],
   "source": [
    "# kb = constants.k\n",
    "# hbar = constants.hbar"
   ],
   "metadata": {
    "collapsed": false,
    "ExecuteTime": {
     "end_time": "2023-10-27T11:34:21.832994Z",
     "start_time": "2023-10-27T11:34:21.741170Z"
    }
   },
   "id": "4fc131588f37509"
  },
  {
   "cell_type": "code",
   "execution_count": 60,
   "outputs": [
    {
     "data": {
      "text/plain": "exp(-p**2/(2*T*k_B*m))",
      "text/latex": "$\\displaystyle e^{- \\frac{p^{2}}{2 T k_{B} m}}$"
     },
     "execution_count": 60,
     "metadata": {},
     "output_type": "execute_result"
    }
   ],
   "source": [
    "m, K, T, kb, beta, omega = symbols('m K T k_B β ω', real=True, positive=True)\n",
    "x, p = symbols('x p ', real=True)\n",
    "\n",
    "H = (p**2)/(2*m)+(K/2)*x**2\n",
    "factor = (1/(2*pi*hbar)**3)\n",
    "fx = sp.exp(-(1/(kb*T))*((K/2)*x**2))\n",
    "fp = sp.exp(-(1/(kb*T))*((p**2)/(2*m)))\n",
    "fp"
   ],
   "metadata": {
    "collapsed": false,
    "ExecuteTime": {
     "end_time": "2023-10-27T11:34:21.874524Z",
     "start_time": "2023-10-27T11:34:21.746380Z"
    }
   },
   "id": "615f38f0f9a14d96"
  },
  {
   "cell_type": "markdown",
   "source": [
    "### a) Berechnung der kanonischen Zustandssumme\n",
    "Da die $p$ und $x$ unabhängige Variablen sind kann das Integral entkoppelt werden:\n",
    "\\begin{equation}\n",
    "Z=\\int e^{-\\beta \\frac{y^2}{2 m}} d p \\cdot \\int e^{-\\beta \\frac{K}{2} x^2} d x\n",
    "\\end{equation}\n",
    "Nach der Definition sind die Variablen $p$ und $x$ der Hamilton-Funktion unabhängig.\n",
    "Da die Masse $m$ von der Federkonstanten $K$ in allen Raumrichtungen gleich zurückgestellt wird, vereinfacht sich durch die Symmetrie des Problems die Integration weiter zu:\n",
    "\\begin{equation}\n",
    "Z=\\left(\\int e^{-\\beta \\frac{p^2}{2 m}} d p_x\\right)^3 \\cdot\\left(\\int e^{-\\beta \\frac{K}{2} x_x^2} d x_x\\right)^3\n",
    "\\end{equation}"
   ],
   "metadata": {
    "collapsed": false
   },
   "id": "d8b10c7d3db10a02"
  },
  {
   "cell_type": "code",
   "execution_count": 61,
   "outputs": [
    {
     "data": {
      "text/plain": "m**(3/2)/(hbar**3*K**(3/2)*β**3)",
      "text/latex": "$\\displaystyle \\frac{m^{\\frac{3}{2}}}{\\hbar^{3} K^{\\frac{3}{2}} β^{3}}$"
     },
     "execution_count": 61,
     "metadata": {},
     "output_type": "execute_result"
    }
   ],
   "source": [
    "Zk1 = (integrate(fx, (x, -oo, oo)))**3\n",
    "Zk2 = (integrate(fp, (p, -oo, oo)))**3\n",
    "Zk = factor * Zk1 * Zk2\n",
    "Zk = Zk.subs(T*kb, beta**(-1))\n",
    "Zk"
   ],
   "metadata": {
    "collapsed": false,
    "ExecuteTime": {
     "end_time": "2023-10-27T11:34:21.898958Z",
     "start_time": "2023-10-27T11:34:21.792688Z"
    }
   },
   "id": "37c3c4bf1658e0e8"
  },
  {
   "cell_type": "markdown",
   "source": [
    "Somit ergibt sich zusätzlich mit $\\omega=\\sqrt{\\frac{K}{m}}$ die kanonische Zustandssumme zu:\n",
    "\\begin{equation*}\n",
    "Z=\\frac{1}{(\\hbar\\omega\\beta)^3}\n",
    "\\end{equation*}\n",
    "Mit ihr lassen sich alle wichtigen thermodynamischen Größen ableiten. Sie bildet die Brücke zwischen der mikroskopischen Beschreibung eines System und der makroskopischen thermodynamischen Beschreibung."
   ],
   "metadata": {
    "collapsed": false
   },
   "id": "bb5ab483f5907bb0"
  },
  {
   "cell_type": "markdown",
   "source": [
    "### b) Berechnung der freien Energie\n",
    "Für die freie Energie gilt:\n",
    "\\begin{equation}\n",
    "\\langle E\\rangle=\\frac{\\sum_n E_n \\cdot e^{-\\beta E_n}}{\\sum_n e^{-\\beta E_n}}=-\\frac{1}{Z_k} \\cdot \\frac{\\partial Z_k}{\\partial \\beta}\n",
    "\\end{equation}"
   ],
   "metadata": {
    "collapsed": false
   },
   "id": "cff64c896248706b"
  },
  {
   "cell_type": "code",
   "execution_count": 62,
   "outputs": [
    {
     "data": {
      "text/plain": "3/β",
      "text/latex": "$\\displaystyle \\frac{3}{β}$"
     },
     "execution_count": 62,
     "metadata": {},
     "output_type": "execute_result"
    }
   ],
   "source": [
    "E = -(1/Zk)*sp.diff(Zk, beta)\n",
    "E"
   ],
   "metadata": {
    "collapsed": false,
    "ExecuteTime": {
     "end_time": "2023-10-27T11:34:21.899695Z",
     "start_time": "2023-10-27T11:34:21.800703Z"
    }
   },
   "id": "f22d32e2b9f8fed2"
  },
  {
   "cell_type": "code",
   "execution_count": 63,
   "outputs": [
    {
     "data": {
      "text/plain": "3*T*k_B",
      "text/latex": "$\\displaystyle 3 T k_{B}$"
     },
     "execution_count": 63,
     "metadata": {},
     "output_type": "execute_result"
    }
   ],
   "source": [
    "E = E.subs(beta, 1/(kb*T))\n",
    "E"
   ],
   "metadata": {
    "collapsed": false,
    "ExecuteTime": {
     "end_time": "2023-10-27T11:34:21.900174Z",
     "start_time": "2023-10-27T11:34:21.806181Z"
    }
   },
   "id": "ea078e54c3d31cc7"
  },
  {
   "cell_type": "markdown",
   "source": [
    "Um die Wärmekapazität mit $N=1$ zu berechnen wird folgender Zusammenhang verwendet:\n",
    "\\begin{equation}\n",
    "C=\\frac{d\\langle E\\rangle}{dT}\\cdot N\n",
    "\\end{equation}"
   ],
   "metadata": {
    "collapsed": false
   },
   "id": "84dd6fc2510645b0"
  },
  {
   "cell_type": "code",
   "execution_count": 64,
   "outputs": [
    {
     "data": {
      "text/plain": "3*N*k_B",
      "text/latex": "$\\displaystyle 3 N k_{B}$"
     },
     "execution_count": 64,
     "metadata": {},
     "output_type": "execute_result"
    }
   ],
   "source": [
    "N = symbols('N')\n",
    "C = sp.diff(E, T)*N\n",
    "C"
   ],
   "metadata": {
    "collapsed": false,
    "ExecuteTime": {
     "end_time": "2023-10-27T11:34:21.900463Z",
     "start_time": "2023-10-27T11:34:21.811573Z"
    }
   },
   "id": "8dcfbbd4f1fcc0be"
  },
  {
   "cell_type": "markdown",
   "source": [
    "Somit ergibt sich eine Wärmekapatität von:\n",
    "\\begin{equation}\n",
    "C=3k_B\n",
    "\\end{equation}"
   ],
   "metadata": {
    "collapsed": false
   },
   "id": "3416c6d884c16f0b"
  },
  {
   "cell_type": "markdown",
   "source": [
    "### c)\n",
    "Die Wärmekapazität für N Oszillatoren lautet $C=3k_BN$\n",
    "\n",
    "Da sich das Dulong-Petit-Gesetz auf die Relation der molaren Wärmekapazität und der universellen Gaskonstante bezieht, ergibt aus der idealen Gasgleichung und Division durch die Stoffmenge $\\nu$:\n",
    "\\begin{equation}\n",
    "C_{mol}=\\frac{C}{\\nu}=3\\frac{N}{\\nu}k_B=3\\frac{\\nu}{\\nu}R=3\\cdot R\n",
    "\\end{equation}"
   ],
   "metadata": {
    "collapsed": false
   },
   "id": "5fc29c08f220fffa"
  },
  {
   "cell_type": "markdown",
   "source": [
    "## 1.3 Einstein-Modell"
   ],
   "metadata": {
    "collapsed": false
   },
   "id": "457f05c7464306cc"
  },
  {
   "cell_type": "markdown",
   "source": [
    "### a)\n",
    "Der eindimensionale quantenmechanische Oszillator besitzt die Energieeigenwerte $E_n=\\hbar \\omega(n+1 / 2)$ mit ganzzahliger Quantenzahl $n$.\n",
    "Die Zustandssumme lautet:\n",
    "\\begin{equation}\n",
    "Z=\\sum_n e^{-\\beta E_n}\n",
    "\\end{equation}"
   ],
   "metadata": {
    "collapsed": false
   },
   "id": "b3fe4302b741c77f"
  },
  {
   "cell_type": "code",
   "execution_count": 65,
   "outputs": [
    {
     "data": {
      "text/plain": "Sum(exp(-hbar*β*ω*(n + 0.5)), (n, 0, oo))",
      "text/latex": "$\\displaystyle \\sum_{n=0}^{\\infty} e^{- \\hbar β ω \\left(n + 0.5\\right)}$"
     },
     "execution_count": 65,
     "metadata": {},
     "output_type": "execute_result"
    }
   ],
   "source": [
    "n = symbols('n')\n",
    "\n",
    "En = hbar*omega*(n+(1/2))\n",
    "Z = Sum(sp.exp(-beta*En), (n, 0, oo))\n",
    "Z"
   ],
   "metadata": {
    "collapsed": false,
    "ExecuteTime": {
     "end_time": "2023-10-27T11:34:21.913773Z",
     "start_time": "2023-10-27T11:34:21.826641Z"
    }
   },
   "id": "946674c7a4f0e27b"
  },
  {
   "cell_type": "code",
   "execution_count": 66,
   "outputs": [
    {
     "data": {
      "text/plain": "exp(-0.5*hbar*β*ω)*Sum(exp(-hbar*n*β*ω), (n, 0, oo))",
      "text/latex": "$\\displaystyle e^{- 0.5 \\hbar β ω} \\sum_{n=0}^{\\infty} e^{- \\hbar n β ω}$"
     },
     "execution_count": 66,
     "metadata": {},
     "output_type": "execute_result"
    }
   ],
   "source": [
    "Z = Z.doit()\n",
    "simplify(Z)"
   ],
   "metadata": {
    "collapsed": false,
    "ExecuteTime": {
     "end_time": "2023-10-27T11:34:21.914920Z",
     "start_time": "2023-10-27T11:34:21.853422Z"
    }
   },
   "id": "b7142f4ee8c941ec"
  },
  {
   "cell_type": "code",
   "execution_count": 67,
   "outputs": [
    {
     "data": {
      "text/plain": "Piecewise((-1/(-1 + exp(-hbar*β*ω)), exp(-hbar*β*ω) < 1), (Sum(exp(-hbar*n*β*ω), (n, 0, oo)), True))",
      "text/latex": "$\\displaystyle \\begin{cases} - \\frac{1}{-1 + e^{- \\hbar β ω}} & \\text{for}\\: e^{- \\hbar β ω} < 1 \\\\\\sum_{n=0}^{\\infty} e^{- \\hbar n β ω} & \\text{otherwise} \\end{cases}$"
     },
     "execution_count": 67,
     "metadata": {},
     "output_type": "execute_result"
    }
   ],
   "source": [
    "r = symbols('r')\n",
    "\n",
    "Z = Sum(r**n, (n, 0, oo))\n",
    "Z = Z.doit().simplify().subs(r, sp.exp(-beta*hbar*omega))\n",
    "Z"
   ],
   "metadata": {
    "collapsed": false,
    "ExecuteTime": {
     "end_time": "2023-10-27T11:34:21.916163Z",
     "start_time": "2023-10-27T11:34:21.893603Z"
    }
   },
   "id": "7f4878cee7d18d"
  },
  {
   "cell_type": "code",
   "execution_count": 68,
   "outputs": [
    {
     "data": {
      "text/plain": "-exp(-0.5*hbar*β*ω)/(-1 + exp(-hbar*β*ω))",
      "text/latex": "$\\displaystyle - \\frac{e^{- 0.5 \\hbar β ω}}{-1 + e^{- \\hbar β ω}}$"
     },
     "execution_count": 68,
     "metadata": {},
     "output_type": "execute_result"
    }
   ],
   "source": [
    "Z = (-1/(-1 + sp.exp(-hbar*beta*omega))) * sp.exp(-0.5*beta*hbar*omega)\n",
    "Z"
   ],
   "metadata": {
    "collapsed": false,
    "ExecuteTime": {
     "end_time": "2023-10-27T11:34:21.947959Z",
     "start_time": "2023-10-27T11:34:21.904084Z"
    }
   },
   "id": "3eb4b9d8328c300e"
  },
  {
   "cell_type": "markdown",
   "source": [
    "Mit den folgenden Umformungen erhält man für Z schließlich:\n",
    "\\begin{equation}\n",
    "Z=\\frac{e^{-\\frac{\\hbar \\omega \\beta}{2}}}{1-e^{-\\hbar \\omega \\beta}}=\\frac{e^{-\\frac{\\hbar \\omega \\beta}{2}}}{e^{-\\frac{\\hbar \\omega \\beta}{2}}\\left(e^{\\frac{\\hbar \\omega \\beta}{2}}-e^{-\\frac{\\hbar \\omega \\beta}{2}}\\right)}=\\frac{1}{\\left(e^{\\frac{\\hbar \\omega \\beta}{2}}-e^{-\\frac{\\hbar \\omega \\beta}{2}}\\right)}=\\frac{1}{2 \\cdot\\left(\\frac{e^{\\frac{\\hbar \\omega}{2}}-e^{-\\frac{\\hbar \\omega \\beta}{2}}}{2}\\right)}=\\frac{1}{2 \\sinh \\left(\\frac{\\hbar \\omega \\beta}{2}\\right)}\n",
    "\\end{equation}\n",
    "Die Eigenenergieen sind diejenigen Energieen, die der Oszillator annhemen kann."
   ],
   "metadata": {
    "collapsed": false
   },
   "id": "6fd1d2c6936422da"
  },
  {
   "cell_type": "code",
   "execution_count": 69,
   "outputs": [
    {
     "data": {
      "text/plain": "1/(2*sinh(hbar*β*ω/2))",
      "text/latex": "$\\displaystyle \\frac{1}{2 \\sinh{\\left(\\frac{\\hbar β ω}{2} \\right)}}$"
     },
     "execution_count": 69,
     "metadata": {},
     "output_type": "execute_result"
    }
   ],
   "source": [
    "Z = 1/(2*sinh(hbar*beta*omega/2))\n",
    "Z"
   ],
   "metadata": {
    "collapsed": false,
    "ExecuteTime": {
     "end_time": "2023-10-27T11:34:21.948232Z",
     "start_time": "2023-10-27T11:34:21.907932Z"
    }
   },
   "id": "8c04b306fc7a36ee"
  },
  {
   "cell_type": "markdown",
   "source": [
    "### b)\n",
    "Die Berechnungen der Energie und der Wärmekapazität eines einzelnen harmonischen Oszillators erfolgen analog zu der Berechnung aus Aufgabe 1.2"
   ],
   "metadata": {
    "collapsed": false
   },
   "id": "6b9ff625ecac1d89"
  },
  {
   "cell_type": "code",
   "execution_count": 70,
   "outputs": [
    {
     "data": {
      "text/plain": "hbar*ω/(2*tanh(hbar*β*ω/2))",
      "text/latex": "$\\displaystyle \\frac{\\hbar ω}{2 \\tanh{\\left(\\frac{\\hbar β ω}{2} \\right)}}$"
     },
     "execution_count": 70,
     "metadata": {},
     "output_type": "execute_result"
    }
   ],
   "source": [
    "E = -(1/Z)*sp.diff(Z, beta)\n",
    "E.simplify()"
   ],
   "metadata": {
    "collapsed": false,
    "ExecuteTime": {
     "end_time": "2023-10-27T11:34:21.956876Z",
     "start_time": "2023-10-27T11:34:21.943674Z"
    }
   },
   "id": "15601247623bcb0c"
  },
  {
   "cell_type": "code",
   "execution_count": 71,
   "outputs": [
    {
     "data": {
      "text/plain": "hbar*ω*cosh(hbar*ω/(2*T*k_B))/(2*sinh(hbar*ω/(2*T*k_B)))",
      "text/latex": "$\\displaystyle \\frac{\\hbar ω \\cosh{\\left(\\frac{\\hbar ω}{2 T k_{B}} \\right)}}{2 \\sinh{\\left(\\frac{\\hbar ω}{2 T k_{B}} \\right)}}$"
     },
     "execution_count": 71,
     "metadata": {},
     "output_type": "execute_result"
    }
   ],
   "source": [
    "E = E.subs(beta, 1/(kb*T))#.simplify()\n",
    "E"
   ],
   "metadata": {
    "collapsed": false,
    "ExecuteTime": {
     "end_time": "2023-10-27T11:34:21.958474Z",
     "start_time": "2023-10-27T11:34:21.947851Z"
    }
   },
   "id": "505e4a915e1990d9"
  },
  {
   "cell_type": "markdown",
   "source": [
    "Unter Verwendung der Identität $\\operatorname{coth} x=1+\\frac{2}{e^{2 x}-1}$ ergibt sich für die mittlere freie Energie des quantenmechanischen harmonischen Oszillators\n",
    "\\begin{equation}\n",
    "\\langle E\\rangle=\\frac{\\hbar \\omega}{2 \\tanh \\left(\\frac{\\hbar \\omega \\beta}{2}\\right)}=\\frac{\\hbar \\omega}{2} \\operatorname{coth}\\left(\\frac{\\hbar \\omega \\beta}{2}\\right)=\\frac{\\hbar \\omega}{2}\\left(1+\\frac{2}{e^{\\hbar \\omega \\beta}-1}\\right)=\\operatorname{\\hbar\\omega }\\left(\\frac{1}{e^{\\hbar \\omega \\beta}-1}+\\frac{1}{2}\\right)\n",
    "\\end{equation}"
   ],
   "metadata": {
    "collapsed": false
   },
   "id": "4fe239522e9e40f3"
  },
  {
   "cell_type": "code",
   "execution_count": 72,
   "outputs": [
    {
     "data": {
      "text/plain": "hbar**2*ω**2/(2*T**2*k_B*(cosh(hbar*ω/(T*k_B)) - 1))",
      "text/latex": "$\\displaystyle \\frac{\\hbar^{2} ω^{2}}{2 T^{2} k_{B} \\left(\\cosh{\\left(\\frac{\\hbar ω}{T k_{B}} \\right)} - 1\\right)}$"
     },
     "execution_count": 72,
     "metadata": {},
     "output_type": "execute_result"
    }
   ],
   "source": [
    "C = sp.diff(E, T)\n",
    "# C.subs(T*kb, beta**(-1)).simplify()\n",
    "C.simplify()"
   ],
   "metadata": {
    "collapsed": false,
    "ExecuteTime": {
     "end_time": "2023-10-27T11:34:22.028517Z",
     "start_time": "2023-10-27T11:34:22.012056Z"
    }
   },
   "id": "907596922e6858e6"
  },
  {
   "cell_type": "markdown",
   "source": [
    "Unter Verwendung des Additionstheorems für den Cosinus Hyperbolicus $\\cosh 2 x-1=2 \\sinh ^2 x$ ergibt sich die Wärmekapazität zu\n",
    "\\begin{equation*}\n",
    "\\frac{\\hbar^2 \\omega^2}{2 k_B T^2} \\frac{1}{\\cosh\\left(\\frac{\\hbar \\omega}{k_B T}\\right)-1}=\\frac{\\hbar^2 \\omega^2}{2 k_B T^2} \\frac{1}{\\cosh \\left(2\\cdot \\frac{\\hbar \\omega}{2 k_B T}\\right)-1}=\\frac{\\hbar^2 \\omega^2}{2 k_B T^2} \\frac{1}{2 \\sinh ^2\\left(\\frac{\\hbar \\omega}{2 k_B T}\\right)}=\\frac{1}{k_B}\\left(\\frac{\\hbar \\omega}{2 T \\sinh \\left(\\frac{\\hbar \\omega}{2 k_B T}\\right)}\\right)^2\n",
    "\\end{equation*}\n",
    "\\begin{equation}\n",
    "C=k_B\\left(\\frac{\\frac{\\hbar \\omega}{2 k_B T}}{\\sinh \\left(\\frac{\\hbar \\omega}{2 k_B T}\\right)}\\right)^2\n",
    "\\end{equation}"
   ],
   "metadata": {
    "collapsed": false
   },
   "id": "1b4c3e4fb20a742"
  },
  {
   "cell_type": "markdown",
   "source": [
    "### c)\n",
    "Würde man einen dreidimensionalen Oszillator betrachten, würde nach dem Virialsatz $E_{kin}=E_{pot}$ gelten und somit auf drei Freiheitsgrade das dreifache der Energie fallen. Gleiches ergibt sich für die Wärmekapazität."
   ],
   "metadata": {
    "collapsed": false,
    "ExecuteTime": {
     "end_time": "2023-10-27T11:12:05.704275Z",
     "start_time": "2023-10-27T11:12:05.700815Z"
    }
   },
   "id": "b16deed60e379a7e"
  },
  {
   "cell_type": "markdown",
   "source": [
    "### d)"
   ],
   "metadata": {
    "collapsed": false
   },
   "id": "8ede0704c04c9cd"
  },
  {
   "cell_type": "code",
   "execution_count": 73,
   "outputs": [],
   "source": [
    "def Ckb1(x):\n",
    "    return ((0.5*x)/(np.sinh(0.5*x)))**2"
   ],
   "metadata": {
    "collapsed": false,
    "ExecuteTime": {
     "end_time": "2023-10-27T11:34:22.033888Z",
     "start_time": "2023-10-27T11:34:22.028873Z"
    }
   },
   "id": "7e6bf395629b089c"
  },
  {
   "cell_type": "code",
   "execution_count": 74,
   "outputs": [],
   "source": [
    "def Ckb2(x):\n",
    "    return ((0.5*1/x)/(np.sinh(0.5*1/x)))**2"
   ],
   "metadata": {
    "collapsed": false,
    "ExecuteTime": {
     "end_time": "2023-10-27T11:34:22.034291Z",
     "start_time": "2023-10-27T11:34:22.032311Z"
    }
   },
   "id": "db270fd7dff97f33"
  },
  {
   "cell_type": "code",
   "execution_count": 75,
   "outputs": [
    {
     "data": {
      "text/plain": "<Figure size 960x720 with 1 Axes>",
      "image/png": "[encoded data removed]"
     },
     "metadata": {},
     "output_type": "display_data"
    }
   ],
   "source": [
    "fig, ax = plt.subplots(dpi=150)\n",
    "\n",
    "plt.rcParams[\"font.family\"] = \"times\"\n",
    "plt.rcParams[\"text.usetex\"] = True\n",
    "\n",
    "x = np.linspace(.001, 10, 1000)\n",
    "\n",
    "ax.plot(x, Ckb1(x),\n",
    "        c='blue',\n",
    "        linewidth=.8,\n",
    "        zorder=2)\n",
    "ax.axhline(1,\n",
    "           color='grey',\n",
    "           linestyle='--',\n",
    "           linewidth=0.8,\n",
    "           zorder=1)\n",
    "\n",
    "ax.set_ylabel('$C/k_B$', fontsize=14)\n",
    "ax.set_xlabel(r'$\\hbar \\omega/k_B T$', fontsize=14)\n",
    "\n",
    "ax.set_xlim(0, 10)\n",
    "ax.set_ylim(0, 1.05)\n",
    "\n",
    "ax.xaxis.set_minor_locator(AutoMinorLocator(2))\n",
    "ax.yaxis.set_minor_locator(AutoMinorLocator(2))\n",
    "plt.tick_params(which='minor',direction='in', labelsize=10, width=.8, length=2, bottom=True, top=True, left=True, right=True)\n",
    "plt.tick_params(which='major',direction='in', labelsize=10, width=.8, bottom=True, top=True, left=True, right=True)"
   ],
   "metadata": {
    "collapsed": false,
    "ExecuteTime": {
     "end_time": "2023-10-27T11:34:22.177347Z",
     "start_time": "2023-10-27T11:34:22.050159Z"
    }
   },
   "id": "1fdd89c65bcbc2aa"
  },
  {
   "cell_type": "code",
   "execution_count": 76,
   "outputs": [
    {
     "data": {
      "text/plain": "<Figure size 960x720 with 1 Axes>",
      "image/png": "[encoded data removed]"
     },
     "metadata": {},
     "output_type": "display_data"
    }
   ],
   "source": [
    "fig, ax = plt.subplots(dpi=150)\n",
    "\n",
    "plt.rcParams[\"font.family\"] = \"times\"\n",
    "plt.rcParams[\"text.usetex\"] = True\n",
    "\n",
    "x = np.linspace(.001, 3, 1000)\n",
    "\n",
    "ax.plot(x, Ckb2(x),\n",
    "        c='blue',\n",
    "        linewidth=.8,\n",
    "        zorder=2)\n",
    "ax.axhline(1,\n",
    "           color='grey',\n",
    "           linestyle='--',\n",
    "           linewidth=0.8,\n",
    "           zorder=1)\n",
    "\n",
    "ax.set_ylabel('$C/k_B$', fontsize=14)\n",
    "ax.set_xlabel(r'$k_B T/\\hbar \\omega$', fontsize=14)\n",
    "\n",
    "ax.set_xlim(0, 3)\n",
    "ax.set_ylim(0, 1.05)\n",
    "\n",
    "ax.xaxis.set_minor_locator(AutoMinorLocator(2))\n",
    "ax.yaxis.set_minor_locator(AutoMinorLocator(2))\n",
    "plt.tick_params(which='minor',direction='in', labelsize=10, width=.8, length=2, bottom=True, top=True, left=True, right=True)\n",
    "plt.tick_params(which='major',direction='in', labelsize=10, width=.8, bottom=True, top=True, left=True, right=True)"
   ],
   "metadata": {
    "collapsed": false,
    "ExecuteTime": {
     "end_time": "2023-10-27T11:34:22.309217Z",
     "start_time": "2023-10-27T11:34:22.184796Z"
    }
   },
   "id": "4c6ceaf441fc2471"
  },
  {
   "cell_type": "markdown",
   "source": [
    "Das Reziproke Argument ermöglicht es, eine bessere visuelle Aussage über das Verhalten der Wärmekapazität bei sehr hohen Temperaturen zu treffen.\n",
    "Ees ergeben sich folgende Grenzfälle:\n",
    "\\begin{equation}\n",
    "C \\cong\\left\\{\\begin{array}{cc}\n",
    "k_B\\left(\\frac{\\hbar \\omega}{k_B T}\\right)^2 \\exp \\left(-\\frac{\\hbar \\omega}{k_B T}\\right), & k_B T \\ll \\hbar \\omega \\\\\n",
    "k_B, & k_B T \\gg \\hbar \\omega\n",
    "\\end{array}\\right.\n",
    "\\end{equation}\n",
    "\n",
    "Für hohe Temperaturen entspricht die Wärmekapazität also wieder ungefähr dem Dulong-Petit-Gesetz $C\\cong k_B$"
   ],
   "metadata": {
    "collapsed": false,
    "ExecuteTime": {
     "end_time": "2023-10-27T11:12:05.956261Z",
     "start_time": "2023-10-27T11:12:05.841734Z"
    }
   },
   "id": "f9bc49d48ae08197"
  }
 ],
 "metadata": {
  "kernelspec": {
   "display_name": "Python 3",
   "language": "python",
   "name": "python3"
  },
  "language_info": {
   "codemirror_mode": {
    "name": "ipython",
    "version": 2
   },
   "file_extension": ".py",
   "mimetype": "text/x-python",
   "name": "python",
   "nbconvert_exporter": "python",
   "pygments_lexer": "ipython2",
   "version": "2.7.6"
  }
 },
 "nbformat": 4,
 "nbformat_minor": 5
}
