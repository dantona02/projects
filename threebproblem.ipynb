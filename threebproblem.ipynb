{
 "cells": [
  {
   "cell_type": "code",
   "execution_count": 97,
   "outputs": [],
   "source": [
    "import matplotlib.pyplot as plt\n",
    "import numpy as np\n",
    "from scipy.integrate import solve_ivp\n",
    "from scipy import constants"
   ],
   "metadata": {
    "collapsed": false,
    "ExecuteTime": {
     "end_time": "2023-10-31T23:39:51.599974Z",
     "start_time": "2023-10-31T23:39:51.579573Z"
    }
   },
   "id": "be8ee4cf1f8b785c"
  },
  {
   "cell_type": "markdown",
   "source": [
    "# Simulation of the planar three-body problem"
   ],
   "metadata": {
    "collapsed": false
   },
   "id": "9c2db27edd4cdbd8"
  },
  {
   "cell_type": "markdown",
   "source": [
    "## Theory\n",
    "The newtonian equations for set of, in our case, three masses is given by \n",
    "\\begin{equation}\n",
    "\\frac{d^2 \\vec{r}_i}{d t^2}=\\sum_{j \\neq i=1}^{3} \\frac{G m_j}{r_{i j}^3} \\vec{r}_{i j}\n",
    "\\end{equation}\n",
    "All calculations are based on the specific initial conditions introduced by the following papers:\n",
    "\n",
    "https://arxiv.org/pdf/1709.04775.pdf\n",
    "https://arxiv.org/pdf/1303.0181.pdf\n",
    "\n",
    "We consider a planar three-body system with unequal masses ($m_1=m_2 \\neq m_3$),zero angular momentum in the case of $G=1$ and the initial conditions\n",
    "\\begin{equation}\n",
    "\\left\\{\\begin{array}{l}\\boldsymbol{r}_1(0)=\\left(x_1, x_2\\right)=-\\boldsymbol{r}_2(0), \\quad \\boldsymbol{r}_3(0)=(0,0) \\\\ \\dot{\\boldsymbol{r}}_1(0)=\\dot{\\boldsymbol{r}}_2(0)=\\left(v_1, v_2\\right), \\quad \\dot{\\boldsymbol{r}}_3(0)=-\\frac{m_1+m_2}{m_3} \\dot{\\boldsymbol{r}}_1(0)\\end{array}\\right.\n",
    "\\end{equation}\n",
    "Furthermore the paper introduces the transformations\n",
    "\\begin{equation}\n",
    "\\boldsymbol{r}_i^{\\prime}\\left(t^{\\prime}\\right)=\\boldsymbol{r}_i(t), \\quad \\boldsymbol{v}_i^{\\prime}\\left(t^{\\prime}\\right)=\\alpha \\boldsymbol{v}_i(t), t^{\\prime}=t / \\sqrt{\\alpha}, \\quad m_i^{\\prime}=\\alpha^2 m_i,\n",
    "\\end{equation}\n",
    "with an arbitrary $\\alpha>0$. The calculations require the newtonian equations to be dimensionless. To meet our purpose to simulate the movement of real celestial bodies, we can explicitly calculate $\\alpha$. The newtonian equations shall have the new form\n",
    "\\begin{equation}\n",
    "\\frac{d^2 \\vec{r}_i^{\\prime}}{d t^{\\prime 2}}=\\sum_{j \\neq i=1}^{3} \\frac{m_j^{\\prime}}{r_{i j}^{\\prime 3}} \\vec{r}_{i j}^{\\prime}\n",
    "\\end{equation}\n",
    "The mass transforms $m_i^{\\prime}=\\alpha^2 m_i$ for $G=1$ and $L=1$, where $M$ is the characteristic mass and $L$ is the characteristic length. But as $G=6.67 \\times 10^{-11}$ and $L$ is arbitrary, we get the transformation:\n",
    "\\begin{equation}\n",
    "\\frac{d^2 \\vec{r}_i^{\\prime}}{d t^{\\prime 2}}=G\\sum_{j \\neq i=1}^{3} \\frac{(\\alpha^{\\prime})^2 m_j}{r_{i j}^{3}} \\vec{r}_{i j}=\\alpha^2\\sum_{j \\neq i=1}^3 \\frac{m_j}{r_{i j}^3} \\vec{r}_{i j}=\\frac{L^3}{GM}\\sum_{j \\neq i=1}^3 \\frac{ m_j}{r_{i j}^3} \\vec{r}_{i j}=\\sum_{j \\neq i=1}^{3} \\frac{m_j^{\\prime}}{r_{i j}^{\\prime 3}} \\vec{r}_{i j}^{\\prime}\n",
    "\\end{equation}\n",
    "\n",
    "One can identify $\\alpha^2$ as $\\frac{L^3}{GM}$. Taking $\\alpha$ splitting it to the corresponding quantities, we get:\n",
    "\\begin{equation}\n",
    "\\vec{r}_i^{\\prime}=\\vec{r}_i / L\\hspace{1.5cm}\\vec{r}_{i j}^{\\prime}=\\vec{r}_{i j} / L\n",
    "\\end{equation}\n",
    "\\begin{equation}\n",
    "m_i^{\\prime}=m_i / M\n",
    "\\end{equation}\n",
    "\\begin{equation}\n",
    "t^{\\prime}=t \\sqrt{G M / L^3}\n",
    "\\end{equation}"
   ],
   "metadata": {
    "collapsed": false
   },
   "id": "c2584d0ca992ecdd"
  },
  {
   "cell_type": "markdown",
   "source": [
    "As the newtonian equations are second order ODE's, python is not able to solve them directly, we need to transform them into to coupled first oder ODE's:\n",
    "\\begin{equation}\n",
    "\\frac{d^2 y}{d t^2}=F\\left(y, \\frac{d y}{d t}, t\\right)\n",
    "\\end{equation}\n",
    "\\begin{equation}\n",
    "\\begin{gathered}\n",
    "\\frac{d y}{d t}=v_y \\\\\n",
    "\\frac{d v_y}{d t}=F\\left(y, v_y, t\\right)\n",
    "\\end{gathered}\n",
    "\\end{equation}\n",
    "\n",
    "We then get a system of first order ODE's that we can solve."
   ],
   "metadata": {
    "collapsed": false
   },
   "id": "d6aa8bbc8706de4f"
  },
  {
   "cell_type": "markdown",
   "source": [
    "As mentioned above the paper sets specific initial conditions for those periodic orbits, those are:\n",
    "- $x_1=-1$, $x_2=1$ and $x_3=0$\n",
    "- $y_1=y_2=y_3=0$\n",
    "- $v_1=v_{x1}=v_{x2}$ and $v_{x3}=-2v_1/m_3$\n",
    "- $v_2=v_{y1}=v_{y2}$ and $v_{y3}=-2v_1/m_3$"
   ],
   "metadata": {
    "collapsed": false
   },
   "id": "bfcb410dc751a43d"
  },
  {
   "cell_type": "code",
   "execution_count": 98,
   "outputs": [],
   "source": [
    "v1 = 0.39295\n",
    "v2 = 0.09758\n",
    "m3 = 1\n",
    "\n",
    "m1 = 1\n",
    "m2 = 1\n",
    "x1_0 = -1\n",
    "x2_0 = 1\n",
    "x3_0 = 0\n",
    "y1_0, y2_0, y3_0 = 0, 0, 0\n",
    "vx1_0 = v1\n",
    "vx2_0 = v1\n",
    "vx3_0 = -2*v1/m3\n",
    "vy1_0 = v2\n",
    "vy2_0 = v2\n",
    "vy3_0 = -2*v2/m3"
   ],
   "metadata": {
    "collapsed": false,
    "ExecuteTime": {
     "end_time": "2023-10-31T23:39:51.614778Z",
     "start_time": "2023-10-31T23:39:51.589550Z"
    }
   },
   "id": "6f93ac200ec68d1d"
  },
  {
   "cell_type": "markdown",
   "source": [
    "Now we consider the system\n",
    "\\begin{equation}\n",
    "\\vec{R}=\\left(x_1, y_1, x_2, y_2, x_3, y_3, v_{x 1}, v_{y 1}, v_{x 2}, v_{y 2}, v_{x 3}, v_{y 3}\\right)\n",
    "\\end{equation}\n",
    "we want to solve for.\n",
    "In order to solve this problem, we need to take the derivative of $\\vec{R}$ with respect to $t$, which gives us:\n",
    "\\begin{equation}\n",
    "\\vec{R}=\\left(v_{x 1}, v_{y 1}, v_{x 2}, v_{y 2}, v_{x 3}, v_{y 3}, \\frac{d^2 \\vec{r}_{x1}^{\\prime}}{d t^{\\prime 2}}, \\frac{d^2 \\vec{r}_{y1}^{\\prime}}{d t^{\\prime 2}}, \\frac{d^2 \\vec{r}_{x2}^{\\prime}}{d t^{\\prime 2}}, \\frac{d^2 \\vec{r}_{y2}^{\\prime}}{d t^{\\prime 2}}, \\frac{d^2 \\vec{r}_{x3}^{\\prime}}{d t^{\\prime 2}}, \\frac{d^2 \\vec{r}_{y3}^{\\prime}}{d t^{\\prime 2}}\\right)\n",
    "\\end{equation}"
   ],
   "metadata": {
    "collapsed": false
   },
   "id": "144dee86621e2a04"
  },
  {
   "cell_type": "code",
   "execution_count": 99,
   "outputs": [],
   "source": [
    "def dR_dt(t, R):\n",
    "    x1, y1, x2, y2, x3, y3, vx1, vy1, vx2, vy2, vx3, vy3 = R\n",
    "    r12 = np.sqrt((x2-x1)**2+(y2-y1)**2)\n",
    "    r13 = np.sqrt((x3-x1)**2+(y3-y1)**2)\n",
    "    r23 = np.sqrt((x2-x3)**2+(y2-y3)**2)\n",
    "    return [vx1, vy1, \n",
    "            vx2, vy2,\n",
    "            vx3, vy3,\n",
    "            m2/(r12**3)*(x2-x1)+m3/(r13**3)*(x3-x1), #m1\n",
    "            m2/(r12**3)*(y2-y1)+m3/(r13**3)*(y3-y1),\n",
    "            m1/(r12**3)*(x1-x2)+m3/(r23**3)*(x3-x2), #m2\n",
    "            m1/(r12**3)*(y1-y2)+m3/(r23**3)*(y3-y2),\n",
    "            m1/(r13**3)*(x1-x3)+m2/(r23**3)*(x2-x3), #m3\n",
    "            m1/(r13**3)*(y1-y3)+m2/(r23**3)*(y2-y3)]"
   ],
   "metadata": {
    "collapsed": false,
    "ExecuteTime": {
     "end_time": "2023-10-31T23:39:51.641370Z",
     "start_time": "2023-10-31T23:39:51.593619Z"
    }
   },
   "id": "c36102100decfab0"
  },
  {
   "cell_type": "code",
   "execution_count": 100,
   "outputs": [],
   "source": [
    "t = np.linspace(0, 20, 4000)"
   ],
   "metadata": {
    "collapsed": false,
    "ExecuteTime": {
     "end_time": "2023-10-31T23:39:51.644635Z",
     "start_time": "2023-10-31T23:39:51.596297Z"
    }
   },
   "id": "4e40c298d3322ccc"
  },
  {
   "cell_type": "code",
   "execution_count": 101,
   "outputs": [],
   "source": [
    "y0 = [x1_0, y1_0, x2_0, y2_0, x3_0, y3_0, vx1_0, vy1_0, vx2_0, vy2_0, vx3_0, vy3_0]\n",
    "t_span = (0, 20)"
   ],
   "metadata": {
    "collapsed": false,
    "ExecuteTime": {
     "end_time": "2023-10-31T23:39:51.645251Z",
     "start_time": "2023-10-31T23:39:51.600124Z"
    }
   },
   "id": "43197ddf9d55d40f"
  },
  {
   "cell_type": "code",
   "execution_count": 102,
   "outputs": [],
   "source": [
    "sol = solve_ivp(dR_dt, t_span, y0=y0, method='DOP853', t_eval=t, rtol=1e-13, atol=1e-16)"
   ],
   "metadata": {
    "collapsed": false,
    "ExecuteTime": {
     "end_time": "2023-10-31T23:39:52.243797Z",
     "start_time": "2023-10-31T23:39:51.602906Z"
    }
   },
   "id": "579b9a615b7d4057"
  },
  {
   "cell_type": "code",
   "execution_count": 103,
   "outputs": [],
   "source": [
    "t = sol.t\n",
    "x1 = sol.y[0]\n",
    "y1 = sol.y[1]\n",
    "x2 = sol.y[2]\n",
    "y2 = sol.y[3]\n",
    "x3 = sol.y[4]\n",
    "y3 = sol.y[5]\n",
    "\n",
    "vx1 = sol.y[6]\n",
    "vy1 = sol.y[7]\n",
    "vx2 = sol.y[8]\n",
    "vy2 = sol.y[9]\n",
    "vx3 = sol.y[10]\n",
    "vy3 = sol.y[11]"
   ],
   "metadata": {
    "collapsed": false,
    "ExecuteTime": {
     "end_time": "2023-10-31T23:39:52.248648Z",
     "start_time": "2023-10-31T23:39:52.244426Z"
    }
   },
   "id": "804c11f4b225cbe6"
  },
  {
   "cell_type": "code",
   "execution_count": 104,
   "outputs": [
    {
     "data": {
      "text/plain": "[<matplotlib.lines.Line2D at 0x28a7e3b80>]"
     },
     "execution_count": 104,
     "metadata": {},
     "output_type": "execute_result"
    },
    {
     "data": {
      "text/plain": "<Figure size 640x480 with 1 Axes>",
      "image/png": "[encoded data removed]"
     },
     "metadata": {},
     "output_type": "display_data"
    }
   ],
   "source": [
    "plt.plot(t, x1)"
   ],
   "metadata": {
    "collapsed": false,
    "ExecuteTime": {
     "end_time": "2023-10-31T23:39:52.328669Z",
     "start_time": "2023-10-31T23:39:52.255185Z"
    }
   },
   "id": "2ea32a380d938da0"
  },
  {
   "cell_type": "code",
   "execution_count": 105,
   "outputs": [],
   "source": [
    "def angular_momentum(x, y, vx, vy, m):\n",
    "    r = np.column_stack((x,y))\n",
    "    v = np.column_stack((vx, vy))\n",
    "    return m * np.cross(r, v)"
   ],
   "metadata": {
    "collapsed": false,
    "ExecuteTime": {
     "end_time": "2023-10-31T23:39:52.328883Z",
     "start_time": "2023-10-31T23:39:52.325633Z"
    }
   },
   "id": "6e226801a3a0bea5"
  },
  {
   "cell_type": "code",
   "execution_count": 106,
   "outputs": [
    {
     "data": {
      "text/plain": "[<matplotlib.lines.Line2D at 0x28a885120>]"
     },
     "execution_count": 106,
     "metadata": {},
     "output_type": "execute_result"
    },
    {
     "data": {
      "text/plain": "<Figure size 640x480 with 1 Axes>",
      "image/png": "[encoded data removed]"
     },
     "metadata": {},
     "output_type": "display_data"
    }
   ],
   "source": [
    "# plt.plot(t, angular_momentum(x1, y1, vx1, vy1, m1))\n",
    "# plt.plot(t, angular_momentum(x2, y2, vx2, vy2, m2))\n",
    "# plt.plot(t, angular_momentum(x3, y3, vx3, vy3, m3))\n",
    "# total_mom = angular_momentum(x1, y1, vx1, vy1, m1) + angular_momentum(x2, y2, vx2, vy2, m2) + angular_momentum(x3, y3, vx3, vy3, m3)\n",
    "# plt.plot(t, total_mom)"
   ],
   "metadata": {
    "collapsed": false,
    "ExecuteTime": {
     "end_time": "2023-10-31T23:39:52.412933Z",
     "start_time": "2023-10-31T23:39:52.328968Z"
    }
   },
   "id": "1994db3f48256ac9"
  },
  {
   "cell_type": "markdown",
   "source": [
    "After having solved the problem we still need to transform back the time, while the other quantities remain invariant."
   ],
   "metadata": {
    "collapsed": false,
    "ExecuteTime": {
     "end_time": "2023-10-31T23:25:29.315755Z",
     "start_time": "2023-10-31T23:25:27.481057Z"
    }
   },
   "id": "31bdf03aa8306d60"
  },
  {
   "cell_type": "code",
   "execution_count": 107,
   "outputs": [],
   "source": [
    "G = constants.G\n",
    "L = 1.495978707*1e11 #distance earth-sun in m\n",
    "M = 1.98892*1e30 #mass sun in kg\n",
    "\n",
    "alpha = L**3/(G*M)"
   ],
   "metadata": {
    "collapsed": false,
    "ExecuteTime": {
     "end_time": "2023-10-31T23:39:52.413541Z",
     "start_time": "2023-10-31T23:39:52.411791Z"
    }
   },
   "id": "48b3e0b19318892e"
  },
  {
   "cell_type": "code",
   "execution_count": 108,
   "outputs": [],
   "source": [
    "factor = np.sqrt(alpha) / (60*60 * 24* 365.25) * np.diff(t)[0]"
   ],
   "metadata": {
    "collapsed": false,
    "ExecuteTime": {
     "end_time": "2023-10-31T23:39:52.417978Z",
     "start_time": "2023-10-31T23:39:52.414266Z"
    }
   },
   "id": "fd66a2e2fe52c039"
  },
  {
   "cell_type": "markdown",
   "source": [
    "# Animation of the trajectories"
   ],
   "metadata": {
    "collapsed": false,
    "ExecuteTime": {
     "end_time": "2023-10-31T23:25:29.315821Z",
     "start_time": "2023-10-31T23:25:27.485948Z"
    }
   },
   "id": "550f88dec8b5e356"
  },
  {
   "cell_type": "code",
   "execution_count": 109,
   "outputs": [],
   "source": [
    "# import matplotlib\n",
    "# from matplotlib.animation import FuncAnimation\n",
    "# from animation import HaloPoint, TrajectoryOpt, ProgressWriter, ProgressPillowWriter\n",
    "# matplotlib.use('QT5Agg')"
   ],
   "metadata": {
    "collapsed": false,
    "ExecuteTime": {
     "end_time": "2023-10-31T23:39:52.418427Z",
     "start_time": "2023-10-31T23:39:52.416334Z"
    }
   },
   "id": "777589ad91387121"
  },
  {
   "cell_type": "code",
   "execution_count": 110,
   "outputs": [],
   "source": [
    "# %matplotlib qt"
   ],
   "metadata": {
    "collapsed": false,
    "ExecuteTime": {
     "end_time": "2023-10-31T23:39:52.422464Z",
     "start_time": "2023-10-31T23:39:52.418795Z"
    }
   },
   "id": "a3c61d2a4d83b6fc"
  },
  {
   "cell_type": "code",
   "execution_count": 111,
   "outputs": [],
   "source": [
    "# def convert_years(years_decimal):\n",
    "#     yearindays = 365.25\n",
    "#     full_years = int(years_decimal)\n",
    "#     days_decimal = (years_decimal - full_years) * yearindays\n",
    "#     full_days = int(days_decimal)\n",
    "#     return full_years, full_days"
   ],
   "metadata": {
    "collapsed": false,
    "ExecuteTime": {
     "end_time": "2023-10-31T23:39:52.422976Z",
     "start_time": "2023-10-31T23:39:52.420905Z"
    }
   },
   "id": "f37ec83866fbcb9a"
  },
  {
   "cell_type": "code",
   "execution_count": 112,
   "outputs": [],
   "source": [
    "# def update(frame):\n",
    "#     text.set_text(f'$T = {convert_years(frame*factor)[0]}\\,a\\;{convert_years(frame*factor)[1]}\\,d$ ')\n",
    "#     point1.set_data(x1[frame], y1[frame])    \n",
    "#     point2.set_data(x2[frame], y2[frame])\n",
    "#     point3.set_data(x3[frame], y3[frame])\n",
    "#     trajectory1.set_data(x1, y1, frame)\n",
    "#     trajectory2.set_data(x2, y2, frame)\n",
    "#     trajectory3.set_data(x3, y3, frame)\n",
    "#     artists = (point1.get_artists() +\n",
    "#                point2.get_artists() +\n",
    "#                point3.get_artists() +\n",
    "#                trajectory1.get_artists() +\n",
    "#                trajectory2.get_artists() +\n",
    "#                trajectory3.get_artists())\n",
    "#     return artists + [text]\n",
    "# \n",
    "# dpi = 300\n",
    "# width = 3840/dpi\n",
    "# height = 2160/dpi\n",
    "# \n",
    "# fig, ax = plt.subplots(figsize=(width, height))\n",
    "# # fig, ax = plt.subplots(figsize=(6, 6))\n",
    "# \n",
    "# plt.rcParams[\"font.family\"] = \"times\"\n",
    "# plt.rcParams[\"text.usetex\"] = True\n",
    "# \n",
    "# ax.set_xlim(-2, 2)\n",
    "# ax.set_ylim(-2, 2)\n",
    "# ax.grid(False)\n",
    "# ax.axis('off')\n",
    "# fig.patch.set_facecolor('black')\n",
    "# \n",
    "# datarange = 400  #points of trajectory\n",
    "# color_decay = 1\n",
    "# \n",
    "# text = plt.text(0, 1.6, 'T', fontsize=16, backgroundcolor='black', ha='center', c='white')\n",
    "# name = plt.text(0, 2, 'I.A.2 butterfly II', fontsize=16, backgroundcolor='black', ha='center', c='white')\n",
    "# point1 = HaloPoint(ax, 1, .6, color1='dodgerblue')\n",
    "# point2 = HaloPoint(ax, 1, .6, color1='darkorange')\n",
    "# point3 = HaloPoint(ax, 1, .6, color1='yellow')\n",
    "# trajectory1 = TrajectoryOpt(ax, 1, 1.5, datarange=datarange, color1='blue', color2='dodgerblue')\n",
    "# trajectory2 = TrajectoryOpt(ax, 1, 1.5, datarange=datarange, color1='orangered', color2='darkorange')\n",
    "# trajectory3 = TrajectoryOpt(ax, 1, 1.5, datarange=datarange, color1='gold', color2='yellow')\n",
    "# \n",
    "# \n",
    "# ani = FuncAnimation(fig, update, frames=len(x1), blit=True, interval=1)\n",
    "\n",
    "# plt.show()\n",
    "# writer = ProgressPillowWriter(fps=30, metadata=dict(artist='Me'), bitrate=1800, total_frames=110)\n",
    "\n",
    "# progress_writer = ProgressWriter(total_frames=len(x1)//2, fps=120, extra_args=['-c:v', 'h264_videotoolbox', '-s', '3840x2160'], bitrate=1800)\n",
    "# ani.save('butterfly2.mp4', writer=progress_writer)"
   ],
   "metadata": {
    "collapsed": false,
    "ExecuteTime": {
     "end_time": "2023-10-31T23:39:52.427331Z",
     "start_time": "2023-10-31T23:39:52.423761Z"
    }
   },
   "id": "320d884e5ce223"
  }
 ],
 "metadata": {
  "kernelspec": {
   "display_name": "Python 3",
   "language": "python",
   "name": "python3"
  },
  "language_info": {
   "codemirror_mode": {
    "name": "ipython",
    "version": 2
   },
   "file_extension": ".py",
   "mimetype": "text/x-python",
   "name": "python",
   "nbconvert_exporter": "python",
   "pygments_lexer": "ipython2",
   "version": "2.7.6"
  }
 },
 "nbformat": 4,
 "nbformat_minor": 5
}
